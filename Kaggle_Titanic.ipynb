{
  "nbformat": 4,
  "nbformat_minor": 0,
  "metadata": {
    "colab": {
      "name": "Kaggle Titanic.ipynb",
      "version": "0.3.2",
      "provenance": [],
      "collapsed_sections": [],
      "include_colab_link": true
    },
    "kernelspec": {
      "name": "python3",
      "display_name": "Python 3"
    },
    "accelerator": "GPU"
  },
  "cells": [
    {
      "cell_type": "markdown",
      "metadata": {
        "id": "view-in-github",
        "colab_type": "text"
      },
      "source": [
        "<a href=\"https://colab.research.google.com/github/Maratinhos/hw/blob/master/Kaggle_Titanic.ipynb\" target=\"_parent\"><img src=\"https://colab.research.google.com/assets/colab-badge.svg\" alt=\"Open In Colab\"/></a>"
      ]
    },
    {
      "cell_type": "code",
      "metadata": {
        "id": "DAg1NfO6w0Hy",
        "colab_type": "code",
        "colab": {}
      },
      "source": [
        "from tensorflow.keras.models import Sequential\n",
        "from tensorflow.keras.layers import Dense, Conv2D, MaxPooling2D, Dropout, Flatten, BatchNormalization\n",
        "from tensorflow.keras import utils\n",
        "from tensorflow.keras.preprocessing import image\n",
        "from tensorflow.python.keras.preprocessing.image import ImageDataGenerator\n",
        "from tensorflow.keras.callbacks import ReduceLROnPlateau, ModelCheckpoint, EarlyStopping\n",
        "import tensorflow as tf\n",
        "from sklearn.model_selection import train_test_split\n",
        "from sklearn.preprocessing import StandardScaler\n",
        "import numpy as np\n",
        "import matplotlib.pyplot as plt\n",
        "from PIL import Image\n",
        "from google.colab import files\n",
        "import pandas as pd\n",
        "%matplotlib inline"
      ],
      "execution_count": 0,
      "outputs": []
    },
    {
      "cell_type": "code",
      "metadata": {
        "id": "HoCxiBqgxDoL",
        "colab_type": "code",
        "outputId": "1b61f51b-337b-41f4-f8f8-13a6112051f1",
        "colab": {
          "resources": {
            "http://localhost:8080/nbextensions/google.colab/files.js": {
              "data": "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",
              "ok": true,
              "headers": [
                [
                  "content-type",
                  "application/javascript"
                ]
              ],
              "status": 200,
              "status_text": ""
            }
          },
          "base_uri": "https://localhost:8080/",
          "height": 74
        }
      },
      "source": [
        "file = files.upload()"
      ],
      "execution_count": 67,
      "outputs": [
        {
          "output_type": "display_data",
          "data": {
            "text/html": [
              "\n",
              "     <input type=\"file\" id=\"files-0ba3f440-860f-4794-96e6-970df7f4d026\" name=\"files[]\" multiple disabled />\n",
              "     <output id=\"result-0ba3f440-860f-4794-96e6-970df7f4d026\">\n",
              "      Upload widget is only available when the cell has been executed in the\n",
              "      current browser session. Please rerun this cell to enable.\n",
              "      </output>\n",
              "      <script src=\"/nbextensions/google.colab/files.js\"></script> "
            ],
            "text/plain": [
              "<IPython.core.display.HTML object>"
            ]
          },
          "metadata": {
            "tags": []
          }
        },
        {
          "output_type": "stream",
          "text": [
            "Saving kaggle.json to kaggle.json\n"
          ],
          "name": "stdout"
        }
      ]
    },
    {
      "cell_type": "code",
      "metadata": {
        "id": "mqkiFaKnxIW9",
        "colab_type": "code",
        "outputId": "d8e72ce8-38c7-4a82-b3ef-bee44fe1c897",
        "colab": {
          "base_uri": "https://localhost:8080/",
          "height": 34
        }
      },
      "source": [
        "!ls"
      ],
      "execution_count": 0,
      "outputs": [
        {
          "output_type": "stream",
          "text": [
            "kaggle.json  sample_data\n"
          ],
          "name": "stdout"
        }
      ]
    },
    {
      "cell_type": "code",
      "metadata": {
        "id": "YrSIN64cxJUn",
        "colab_type": "code",
        "colab": {}
      },
      "source": [
        "!mkdir ~/.kaggle"
      ],
      "execution_count": 0,
      "outputs": []
    },
    {
      "cell_type": "code",
      "metadata": {
        "id": "wyQdM9t0xQJ6",
        "colab_type": "code",
        "colab": {}
      },
      "source": [
        "!mv kaggle.json ~/.kaggle"
      ],
      "execution_count": 0,
      "outputs": []
    },
    {
      "cell_type": "code",
      "metadata": {
        "id": "f8NOzZ6bxWnN",
        "colab_type": "code",
        "colab": {}
      },
      "source": [
        "!chmod 600 /root/.kaggle/kaggle.json"
      ],
      "execution_count": 0,
      "outputs": []
    },
    {
      "cell_type": "code",
      "metadata": {
        "id": "aETEgBEixYtG",
        "colab_type": "code",
        "outputId": "1ee38cae-0490-4a6c-eb93-60de065c7680",
        "colab": {
          "base_uri": "https://localhost:8080/",
          "height": 170
        }
      },
      "source": [
        "!kaggle competitions download -c titanic"
      ],
      "execution_count": 0,
      "outputs": [
        {
          "output_type": "stream",
          "text": [
            "Downloading train.csv to /content\n",
            "\r  0% 0.00/59.8k [00:00<?, ?B/s]\n",
            "100% 59.8k/59.8k [00:00<00:00, 51.6MB/s]\n",
            "Downloading test.csv to /content\n",
            "  0% 0.00/28.0k [00:00<?, ?B/s]\n",
            "100% 28.0k/28.0k [00:00<00:00, 23.6MB/s]\n",
            "Downloading gender_submission.csv to /content\n",
            "  0% 0.00/3.18k [00:00<?, ?B/s]\n",
            "100% 3.18k/3.18k [00:00<00:00, 3.26MB/s]\n"
          ],
          "name": "stdout"
        }
      ]
    },
    {
      "cell_type": "code",
      "metadata": {
        "id": "LIVtWtigxdex",
        "colab_type": "code",
        "colab": {}
      },
      "source": [
        "df = pd.read_csv('train.csv')\n",
        "df_test = pd.read_csv('test.csv')"
      ],
      "execution_count": 0,
      "outputs": []
    },
    {
      "cell_type": "code",
      "metadata": {
        "id": "o4d4PtdvyHfo",
        "colab_type": "code",
        "outputId": "bd39f5c1-dddc-4f3a-854c-8b9eb2c8722e",
        "colab": {
          "base_uri": "https://localhost:8080/",
          "height": 204
        }
      },
      "source": [
        "df.head()"
      ],
      "execution_count": 259,
      "outputs": [
        {
          "output_type": "execute_result",
          "data": {
            "text/html": [
              "<div>\n",
              "<style scoped>\n",
              "    .dataframe tbody tr th:only-of-type {\n",
              "        vertical-align: middle;\n",
              "    }\n",
              "\n",
              "    .dataframe tbody tr th {\n",
              "        vertical-align: top;\n",
              "    }\n",
              "\n",
              "    .dataframe thead th {\n",
              "        text-align: right;\n",
              "    }\n",
              "</style>\n",
              "<table border=\"1\" class=\"dataframe\">\n",
              "  <thead>\n",
              "    <tr style=\"text-align: right;\">\n",
              "      <th></th>\n",
              "      <th>PassengerId</th>\n",
              "      <th>Survived</th>\n",
              "      <th>Pclass</th>\n",
              "      <th>Name</th>\n",
              "      <th>Sex</th>\n",
              "      <th>Age</th>\n",
              "      <th>SibSp</th>\n",
              "      <th>Parch</th>\n",
              "      <th>Ticket</th>\n",
              "      <th>Fare</th>\n",
              "      <th>Cabin</th>\n",
              "      <th>Embarked</th>\n",
              "    </tr>\n",
              "  </thead>\n",
              "  <tbody>\n",
              "    <tr>\n",
              "      <th>0</th>\n",
              "      <td>1</td>\n",
              "      <td>0</td>\n",
              "      <td>3</td>\n",
              "      <td>Braund, Mr. Owen Harris</td>\n",
              "      <td>male</td>\n",
              "      <td>22.0</td>\n",
              "      <td>1</td>\n",
              "      <td>0</td>\n",
              "      <td>A/5 21171</td>\n",
              "      <td>7.2500</td>\n",
              "      <td>NaN</td>\n",
              "      <td>S</td>\n",
              "    </tr>\n",
              "    <tr>\n",
              "      <th>1</th>\n",
              "      <td>2</td>\n",
              "      <td>1</td>\n",
              "      <td>1</td>\n",
              "      <td>Cumings, Mrs. John Bradley (Florence Briggs Th...</td>\n",
              "      <td>female</td>\n",
              "      <td>38.0</td>\n",
              "      <td>1</td>\n",
              "      <td>0</td>\n",
              "      <td>PC 17599</td>\n",
              "      <td>71.2833</td>\n",
              "      <td>C85</td>\n",
              "      <td>C</td>\n",
              "    </tr>\n",
              "    <tr>\n",
              "      <th>2</th>\n",
              "      <td>3</td>\n",
              "      <td>1</td>\n",
              "      <td>3</td>\n",
              "      <td>Heikkinen, Miss. Laina</td>\n",
              "      <td>female</td>\n",
              "      <td>26.0</td>\n",
              "      <td>0</td>\n",
              "      <td>0</td>\n",
              "      <td>STON/O2. 3101282</td>\n",
              "      <td>7.9250</td>\n",
              "      <td>NaN</td>\n",
              "      <td>S</td>\n",
              "    </tr>\n",
              "    <tr>\n",
              "      <th>3</th>\n",
              "      <td>4</td>\n",
              "      <td>1</td>\n",
              "      <td>1</td>\n",
              "      <td>Futrelle, Mrs. Jacques Heath (Lily May Peel)</td>\n",
              "      <td>female</td>\n",
              "      <td>35.0</td>\n",
              "      <td>1</td>\n",
              "      <td>0</td>\n",
              "      <td>113803</td>\n",
              "      <td>53.1000</td>\n",
              "      <td>C123</td>\n",
              "      <td>S</td>\n",
              "    </tr>\n",
              "    <tr>\n",
              "      <th>4</th>\n",
              "      <td>5</td>\n",
              "      <td>0</td>\n",
              "      <td>3</td>\n",
              "      <td>Allen, Mr. William Henry</td>\n",
              "      <td>male</td>\n",
              "      <td>35.0</td>\n",
              "      <td>0</td>\n",
              "      <td>0</td>\n",
              "      <td>373450</td>\n",
              "      <td>8.0500</td>\n",
              "      <td>NaN</td>\n",
              "      <td>S</td>\n",
              "    </tr>\n",
              "  </tbody>\n",
              "</table>\n",
              "</div>"
            ],
            "text/plain": [
              "   PassengerId  Survived  Pclass  ...     Fare Cabin  Embarked\n",
              "0            1         0       3  ...   7.2500   NaN         S\n",
              "1            2         1       1  ...  71.2833   C85         C\n",
              "2            3         1       3  ...   7.9250   NaN         S\n",
              "3            4         1       1  ...  53.1000  C123         S\n",
              "4            5         0       3  ...   8.0500   NaN         S\n",
              "\n",
              "[5 rows x 12 columns]"
            ]
          },
          "metadata": {
            "tags": []
          },
          "execution_count": 259
        }
      ]
    },
    {
      "cell_type": "code",
      "metadata": {
        "id": "1HXfKS1X2Fpr",
        "colab_type": "code",
        "colab": {}
      },
      "source": [
        "df['Sex'] = df['Sex'].replace('male', 0)\n",
        "df['Sex'] = df['Sex'].replace('female', 1)\n",
        "df['Embarked'] = df['Embarked'].replace('S', 0)\n",
        "df['Embarked'] = df['Embarked'].replace('C', 1)\n",
        "df['Embarked'] = df['Embarked'].replace('Q', 2)"
      ],
      "execution_count": 0,
      "outputs": []
    },
    {
      "cell_type": "code",
      "metadata": {
        "id": "J-7juElagi3O",
        "colab_type": "code",
        "colab": {}
      },
      "source": [
        "df_test['Sex'] = df_test['Sex'].replace('male', 0)\n",
        "df_test['Sex'] = df_test['Sex'].replace('female', 1)\n",
        "df_test['Embarked'] = df_test['Embarked'].replace('S', 0)\n",
        "df_test['Embarked'] = df_test['Embarked'].replace('C', 1)\n",
        "df_test['Embarked'] = df_test['Embarked'].replace('Q', 2)"
      ],
      "execution_count": 0,
      "outputs": []
    },
    {
      "cell_type": "code",
      "metadata": {
        "id": "zbNE5-0LGQGr",
        "colab_type": "code",
        "colab": {}
      },
      "source": [
        "x = df[['Pclass', 'Sex', 'Age', 'SibSp', 'Parch', 'Fare', 'Embarked']]\n",
        "y = df['Survived']"
      ],
      "execution_count": 0,
      "outputs": []
    },
    {
      "cell_type": "code",
      "metadata": {
        "id": "j_Pbpuqhg0-Q",
        "colab_type": "code",
        "colab": {}
      },
      "source": [
        "x_test = df_test[['Pclass', 'Sex', 'Age', 'SibSp', 'Parch', 'Fare', 'Embarked']]"
      ],
      "execution_count": 0,
      "outputs": []
    },
    {
      "cell_type": "code",
      "metadata": {
        "id": "Clb3M_PnfMzl",
        "colab_type": "code",
        "colab": {}
      },
      "source": [
        "x = x.fillna(x.mean())"
      ],
      "execution_count": 0,
      "outputs": []
    },
    {
      "cell_type": "code",
      "metadata": {
        "id": "T9kxGtBmhFx5",
        "colab_type": "code",
        "colab": {}
      },
      "source": [
        "x_test = x_test.fillna(x_test.mean())"
      ],
      "execution_count": 0,
      "outputs": []
    },
    {
      "cell_type": "code",
      "metadata": {
        "id": "5V7Y7_sNHhSk",
        "colab_type": "code",
        "colab": {}
      },
      "source": [
        "x_train, x_val, y_train, y_val = train_test_split(x,y,test_size=0.2, shuffle=True)"
      ],
      "execution_count": 0,
      "outputs": []
    },
    {
      "cell_type": "code",
      "metadata": {
        "id": "imdIytGqI08o",
        "colab_type": "code",
        "colab": {}
      },
      "source": [
        "scaler = StandardScaler()\n",
        "x_train_scaled = scaler.fit_transform(x_train)\n",
        "x_val_scaled = scaler.fit_transform(x_val)"
      ],
      "execution_count": 0,
      "outputs": []
    },
    {
      "cell_type": "code",
      "metadata": {
        "id": "Gzv_1tBHhoqy",
        "colab_type": "code",
        "colab": {}
      },
      "source": [
        "x_test_scaled = scaler.fit_transform(x_test)"
      ],
      "execution_count": 0,
      "outputs": []
    },
    {
      "cell_type": "code",
      "metadata": {
        "id": "fw9tsUN9Os8q",
        "colab_type": "code",
        "colab": {}
      },
      "source": [
        "x_train_scaled = x_train_scaled.astype(np.float32)\n",
        "x_val_scaled = x_val_scaled.astype(np.float32)\n",
        "y_train = y_train.astype(np.float32)\n",
        "y_val = y_val.astype(np.float32)"
      ],
      "execution_count": 0,
      "outputs": []
    },
    {
      "cell_type": "code",
      "metadata": {
        "id": "sKozeNxNhvEO",
        "colab_type": "code",
        "colab": {}
      },
      "source": [
        "x_test_scaled = x_test_scaled.astype(np.float32)"
      ],
      "execution_count": 0,
      "outputs": []
    },
    {
      "cell_type": "code",
      "metadata": {
        "id": "p-6u3a1qUcZP",
        "colab_type": "code",
        "colab": {}
      },
      "source": [
        "x_train_scaled = np.array(x_train_scaled)\n",
        "x_val_scaled = np.array(x_val_scaled)\n",
        "y_train = np.array(y_train)\n",
        "y_val = np.array(y_val)"
      ],
      "execution_count": 0,
      "outputs": []
    },
    {
      "cell_type": "code",
      "metadata": {
        "id": "EmGrQNCRh1nw",
        "colab_type": "code",
        "colab": {}
      },
      "source": [
        "x_test_scaled = np.array(x_test_scaled)"
      ],
      "execution_count": 0,
      "outputs": []
    },
    {
      "cell_type": "code",
      "metadata": {
        "id": "hwGnacrkL4Al",
        "colab_type": "code",
        "colab": {}
      },
      "source": [
        "model = Sequential([\n",
        "    Dense(32, activation='relu', input_shape=(7,)),\n",
        "    #BatchNormalization(),\n",
        "    #Dropout(0.3),\n",
        "    Dense(32, activation='relu'),\n",
        "    #BatchNormalization(),\n",
        "    #Dropout(0.3),\n",
        "    Dense(64, activation='relu'),\n",
        "    #BatchNormalization(),\n",
        "    #Dropout(0.3),\n",
        "    #Dense(512, activation='relu'),\n",
        "    #BatchNormalization(),\n",
        "    #Dropout(0.3),\n",
        "    Dense(1, activation='sigmoid')\n",
        "])\n",
        "\n",
        "model.compile(optimizer='adam', loss='binary_crossentropy', metrics = ['accuracy'])\n",
        "\n",
        "checkpoint = ModelCheckpoint('kaggle-titanic.hdf5', monitor = 'val_acc', save_best_only = True, verbose = 1, mode = 'max')\n",
        "\n",
        "learning_rate_reduction = ReduceLROnPlateau(monitor = 'val_acc', patience = 3, verbose = 1, factor = 0.1, min_lr = 0.0000001)\n",
        "\n",
        "early_stopping = EarlyStopping(monitor = 'val_loss', patience = 10, verbose = 1, restore_best_weights = True)"
      ],
      "execution_count": 0,
      "outputs": []
    },
    {
      "cell_type": "code",
      "metadata": {
        "id": "4thyQ3gvNaJ7",
        "colab_type": "code",
        "outputId": "98d3f528-b533-45b3-8645-46967e4cc719",
        "colab": {
          "base_uri": "https://localhost:8080/",
          "height": 1000
        }
      },
      "source": [
        "history = model.fit(x_train_scaled, \n",
        "                    y_train, \n",
        "                    batch_size = 128,\n",
        "                    validation_data = (x_val_scaled, y_val), \n",
        "                    epochs = 100,\n",
        "                    verbose = 1,\n",
        "                    callbacks = [checkpoint, learning_rate_reduction, early_stopping])"
      ],
      "execution_count": 276,
      "outputs": [
        {
          "output_type": "stream",
          "text": [
            "Train on 712 samples, validate on 179 samples\n",
            "Epoch 1/100\n",
            "128/712 [====>.........................] - ETA: 1s - loss: 0.6910 - acc: 0.4219\n",
            "Epoch 00001: val_acc improved from -inf to 0.67598, saving model to kaggle-titanic.hdf5\n",
            "712/712 [==============================] - 4s 5ms/sample - loss: 0.6794 - acc: 0.5787 - val_loss: 0.6575 - val_acc: 0.6760\n",
            "Epoch 2/100\n",
            "128/712 [====>.........................] - ETA: 0s - loss: 0.6536 - acc: 0.6875\n",
            "Epoch 00002: val_acc improved from 0.67598 to 0.75978, saving model to kaggle-titanic.hdf5\n",
            "712/712 [==============================] - 0s 76us/sample - loss: 0.6367 - acc: 0.7233 - val_loss: 0.6161 - val_acc: 0.7598\n",
            "Epoch 3/100\n",
            "128/712 [====>.........................] - ETA: 0s - loss: 0.6014 - acc: 0.8047\n",
            "Epoch 00003: val_acc improved from 0.75978 to 0.77095, saving model to kaggle-titanic.hdf5\n",
            "712/712 [==============================] - 0s 66us/sample - loss: 0.5994 - acc: 0.7781 - val_loss: 0.5767 - val_acc: 0.7709\n",
            "Epoch 4/100\n",
            "128/712 [====>.........................] - ETA: 0s - loss: 0.5884 - acc: 0.7500\n",
            "Epoch 00004: val_acc improved from 0.77095 to 0.77654, saving model to kaggle-titanic.hdf5\n",
            "712/712 [==============================] - 0s 69us/sample - loss: 0.5612 - acc: 0.7992 - val_loss: 0.5368 - val_acc: 0.7765\n",
            "Epoch 5/100\n",
            "128/712 [====>.........................] - ETA: 0s - loss: 0.5248 - acc: 0.8281\n",
            "Epoch 00005: val_acc improved from 0.77654 to 0.78771, saving model to kaggle-titanic.hdf5\n",
            "712/712 [==============================] - 0s 69us/sample - loss: 0.5265 - acc: 0.8062 - val_loss: 0.5009 - val_acc: 0.7877\n",
            "Epoch 6/100\n",
            "128/712 [====>.........................] - ETA: 0s - loss: 0.5223 - acc: 0.8047\n",
            "Epoch 00006: val_acc improved from 0.78771 to 0.79888, saving model to kaggle-titanic.hdf5\n",
            "712/712 [==============================] - 0s 71us/sample - loss: 0.4934 - acc: 0.8090 - val_loss: 0.4712 - val_acc: 0.7989\n",
            "Epoch 7/100\n",
            "128/712 [====>.........................] - ETA: 0s - loss: 0.4732 - acc: 0.8047\n",
            "Epoch 00007: val_acc did not improve from 0.79888\n",
            "712/712 [==============================] - 0s 41us/sample - loss: 0.4684 - acc: 0.8118 - val_loss: 0.4502 - val_acc: 0.7989\n",
            "Epoch 8/100\n",
            "128/712 [====>.........................] - ETA: 0s - loss: 0.4585 - acc: 0.8047\n",
            "Epoch 00008: val_acc did not improve from 0.79888\n",
            "712/712 [==============================] - 0s 38us/sample - loss: 0.4518 - acc: 0.8104 - val_loss: 0.4385 - val_acc: 0.7989\n",
            "Epoch 9/100\n",
            "128/712 [====>.........................] - ETA: 0s - loss: 0.3958 - acc: 0.8516\n",
            "Epoch 00009: val_acc did not improve from 0.79888\n",
            "\n",
            "Epoch 00009: ReduceLROnPlateau reducing learning rate to 0.00010000000474974513.\n",
            "712/712 [==============================] - 1s 1ms/sample - loss: 0.4430 - acc: 0.8062 - val_loss: 0.4321 - val_acc: 0.7989\n",
            "Epoch 10/100\n",
            "128/712 [====>.........................] - ETA: 0s - loss: 0.4053 - acc: 0.8281\n",
            "Epoch 00010: val_acc did not improve from 0.79888\n",
            "712/712 [==============================] - 0s 44us/sample - loss: 0.4376 - acc: 0.8076 - val_loss: 0.4318 - val_acc: 0.7989\n",
            "Epoch 11/100\n",
            "128/712 [====>.........................] - ETA: 0s - loss: 0.3867 - acc: 0.8516\n",
            "Epoch 00011: val_acc did not improve from 0.79888\n",
            "712/712 [==============================] - 0s 41us/sample - loss: 0.4369 - acc: 0.8118 - val_loss: 0.4317 - val_acc: 0.7989\n",
            "Epoch 12/100\n",
            "128/712 [====>.........................] - ETA: 0s - loss: 0.4200 - acc: 0.8438\n",
            "Epoch 00012: val_acc did not improve from 0.79888\n",
            "\n",
            "Epoch 00012: ReduceLROnPlateau reducing learning rate to 1.0000000474974514e-05.\n",
            "712/712 [==============================] - 0s 41us/sample - loss: 0.4360 - acc: 0.8132 - val_loss: 0.4316 - val_acc: 0.7989\n",
            "Epoch 13/100\n",
            "128/712 [====>.........................] - ETA: 0s - loss: 0.4389 - acc: 0.8203\n",
            "Epoch 00013: val_acc did not improve from 0.79888\n",
            "712/712 [==============================] - 0s 46us/sample - loss: 0.4355 - acc: 0.8146 - val_loss: 0.4316 - val_acc: 0.7989\n",
            "Epoch 14/100\n",
            "128/712 [====>.........................] - ETA: 0s - loss: 0.4411 - acc: 0.8203\n",
            "Epoch 00014: val_acc did not improve from 0.79888\n",
            "712/712 [==============================] - 0s 43us/sample - loss: 0.4354 - acc: 0.8146 - val_loss: 0.4316 - val_acc: 0.7989\n",
            "Epoch 15/100\n",
            "128/712 [====>.........................] - ETA: 0s - loss: 0.3773 - acc: 0.8516\n",
            "Epoch 00015: val_acc did not improve from 0.79888\n",
            "\n",
            "Epoch 00015: ReduceLROnPlateau reducing learning rate to 1.0000000656873453e-06.\n",
            "712/712 [==============================] - 0s 44us/sample - loss: 0.4354 - acc: 0.8132 - val_loss: 0.4316 - val_acc: 0.7989\n",
            "Epoch 16/100\n",
            "128/712 [====>.........................] - ETA: 0s - loss: 0.4569 - acc: 0.7891\n",
            "Epoch 00016: val_acc did not improve from 0.79888\n",
            "712/712 [==============================] - 0s 37us/sample - loss: 0.4353 - acc: 0.8132 - val_loss: 0.4316 - val_acc: 0.7989\n",
            "Epoch 17/100\n",
            "128/712 [====>.........................] - ETA: 0s - loss: 0.3929 - acc: 0.8438\n",
            "Epoch 00017: val_acc did not improve from 0.79888\n",
            "712/712 [==============================] - 0s 37us/sample - loss: 0.4353 - acc: 0.8132 - val_loss: 0.4316 - val_acc: 0.7989\n",
            "Epoch 18/100\n",
            "128/712 [====>.........................] - ETA: 0s - loss: 0.4699 - acc: 0.8047\n",
            "Epoch 00018: val_acc did not improve from 0.79888\n",
            "\n",
            "Epoch 00018: ReduceLROnPlateau reducing learning rate to 1.0000001111620805e-07.\n",
            "712/712 [==============================] - 0s 40us/sample - loss: 0.4353 - acc: 0.8132 - val_loss: 0.4316 - val_acc: 0.7989\n",
            "Epoch 19/100\n",
            "128/712 [====>.........................] - ETA: 0s - loss: 0.4069 - acc: 0.8281\n",
            "Epoch 00019: val_acc did not improve from 0.79888\n",
            "712/712 [==============================] - 0s 35us/sample - loss: 0.4353 - acc: 0.8132 - val_loss: 0.4316 - val_acc: 0.7989\n",
            "Epoch 20/100\n",
            "128/712 [====>.........................] - ETA: 0s - loss: 0.4211 - acc: 0.8281\n",
            "Epoch 00020: val_acc did not improve from 0.79888\n",
            "712/712 [==============================] - 0s 34us/sample - loss: 0.4353 - acc: 0.8132 - val_loss: 0.4316 - val_acc: 0.7989\n",
            "Epoch 21/100\n",
            "128/712 [====>.........................] - ETA: 0s - loss: 0.4807 - acc: 0.7656\n",
            "Epoch 00021: val_acc did not improve from 0.79888\n",
            "\n",
            "Epoch 00021: ReduceLROnPlateau reducing learning rate to 1e-07.\n",
            "712/712 [==============================] - 0s 37us/sample - loss: 0.4353 - acc: 0.8132 - val_loss: 0.4316 - val_acc: 0.7989\n",
            "Epoch 22/100\n",
            "128/712 [====>.........................] - ETA: 0s - loss: 0.4548 - acc: 0.8125\n",
            "Epoch 00022: val_acc did not improve from 0.79888\n",
            "712/712 [==============================] - 0s 48us/sample - loss: 0.4353 - acc: 0.8132 - val_loss: 0.4316 - val_acc: 0.7989\n",
            "Epoch 23/100\n",
            "128/712 [====>.........................] - ETA: 0s - loss: 0.4553 - acc: 0.7969\n",
            "Epoch 00023: val_acc did not improve from 0.79888\n",
            "712/712 [==============================] - 0s 42us/sample - loss: 0.4353 - acc: 0.8132 - val_loss: 0.4316 - val_acc: 0.7989\n",
            "Epoch 24/100\n",
            "128/712 [====>.........................] - ETA: 0s - loss: 0.4116 - acc: 0.8125\n",
            "Epoch 00024: val_acc did not improve from 0.79888\n",
            "\n",
            "Epoch 00024: ReduceLROnPlateau reducing learning rate to 1e-07.\n",
            "712/712 [==============================] - 0s 43us/sample - loss: 0.4353 - acc: 0.8132 - val_loss: 0.4316 - val_acc: 0.7989\n",
            "Epoch 25/100\n",
            "128/712 [====>.........................] - ETA: 0s - loss: 0.4144 - acc: 0.8047\n",
            "Epoch 00025: val_acc did not improve from 0.79888\n",
            "712/712 [==============================] - 0s 39us/sample - loss: 0.4353 - acc: 0.8132 - val_loss: 0.4316 - val_acc: 0.7989\n",
            "Epoch 26/100\n",
            "128/712 [====>.........................] - ETA: 0s - loss: 0.4159 - acc: 0.8359\n",
            "Epoch 00026: val_acc did not improve from 0.79888\n",
            "712/712 [==============================] - 0s 42us/sample - loss: 0.4353 - acc: 0.8132 - val_loss: 0.4316 - val_acc: 0.7989\n",
            "Epoch 27/100\n",
            "128/712 [====>.........................] - ETA: 0s - loss: 0.4357 - acc: 0.8203\n",
            "Epoch 00027: val_acc did not improve from 0.79888\n",
            "\n",
            "Epoch 00027: ReduceLROnPlateau reducing learning rate to 1e-07.\n",
            "Restoring model weights from the end of the best epoch.\n",
            "712/712 [==============================] - 1s 1ms/sample - loss: 0.4353 - acc: 0.8132 - val_loss: 0.4316 - val_acc: 0.7989\n",
            "Epoch 00027: early stopping\n"
          ],
          "name": "stdout"
        }
      ]
    },
    {
      "cell_type": "code",
      "metadata": {
        "id": "kcV35eqRjIJr",
        "colab_type": "code",
        "colab": {}
      },
      "source": [
        "model.load_weights('kaggle-titanic.hdf5')"
      ],
      "execution_count": 0,
      "outputs": []
    },
    {
      "cell_type": "code",
      "metadata": {
        "id": "NCV2_n74NmBC",
        "colab_type": "code",
        "colab": {
          "base_uri": "https://localhost:8080/",
          "height": 573
        },
        "outputId": "113b60e1-49af-45b1-8274-8600a24b0907"
      },
      "source": [
        "# Training plots\n",
        "epochs = [i for i in range(1, len(history.history['loss'])+1)]\n",
        "\n",
        "plt.plot(epochs, history.history['loss'], color='blue', label=\"training_loss\")\n",
        "plt.plot(epochs, history.history['val_loss'], color='red', label=\"validation_loss\")\n",
        "plt.legend(loc='best')\n",
        "plt.title('loss')\n",
        "plt.xlabel('epoch')\n",
        "plt.show()\n",
        "\n",
        "plt.plot(epochs, history.history['acc'], color='blue', label=\"training_accuracy\")\n",
        "plt.plot(epochs, history.history['val_acc'], color='red',label=\"validation_accuracy\")\n",
        "plt.legend(loc='best')\n",
        "plt.title('accuracy')\n",
        "plt.xlabel('epoch')\n",
        "plt.show()"
      ],
      "execution_count": 277,
      "outputs": [
        {
          "output_type": "display_data",
          "data": {
            "image/png": "[encoded data removed]",
            "text/plain": [
              "<Figure size 432x288 with 1 Axes>"
            ]
          },
          "metadata": {
            "tags": []
          }
        },
        {
          "output_type": "display_data",
          "data": {
            "image/png": "[encoded data removed]",
            "text/plain": [
              "<Figure size 432x288 with 1 Axes>"
            ]
          },
          "metadata": {
            "tags": []
          }
        }
      ]
    },
    {
      "cell_type": "code",
      "metadata": {
        "id": "5lNElYr9ivPm",
        "colab_type": "code",
        "colab": {}
      },
      "source": [
        "y_pred = model.predict(x_test_scaled)\n",
        "y_final = (predictions > 0.5).astype(int).reshape(df_test.shape[0])\n",
        "    \n",
        "output = pd.DataFrame({'PassengerId': df_test['PassengerId'], 'Survived': y_final})\n",
        "output.to_csv('prediction.csv', index=False)"
      ],
      "execution_count": 0,
      "outputs": []
    },
    {
      "cell_type": "code",
      "metadata": {
        "id": "410ki_vSmL4q",
        "colab_type": "code",
        "colab": {
          "base_uri": "https://localhost:8080/",
          "height": 297
        },
        "outputId": "973e9323-fb10-4e29-931f-cd0e7edcb624"
      },
      "source": [
        "output.describe()"
      ],
      "execution_count": 279,
      "outputs": [
        {
          "output_type": "execute_result",
          "data": {
            "text/html": [
              "<div>\n",
              "<style scoped>\n",
              "    .dataframe tbody tr th:only-of-type {\n",
              "        vertical-align: middle;\n",
              "    }\n",
              "\n",
              "    .dataframe tbody tr th {\n",
              "        vertical-align: top;\n",
              "    }\n",
              "\n",
              "    .dataframe thead th {\n",
              "        text-align: right;\n",
              "    }\n",
              "</style>\n",
              "<table border=\"1\" class=\"dataframe\">\n",
              "  <thead>\n",
              "    <tr style=\"text-align: right;\">\n",
              "      <th></th>\n",
              "      <th>PassengerId</th>\n",
              "      <th>Survived</th>\n",
              "    </tr>\n",
              "  </thead>\n",
              "  <tbody>\n",
              "    <tr>\n",
              "      <th>count</th>\n",
              "      <td>418.000000</td>\n",
              "      <td>418.0</td>\n",
              "    </tr>\n",
              "    <tr>\n",
              "      <th>mean</th>\n",
              "      <td>1100.500000</td>\n",
              "      <td>0.0</td>\n",
              "    </tr>\n",
              "    <tr>\n",
              "      <th>std</th>\n",
              "      <td>120.810458</td>\n",
              "      <td>0.0</td>\n",
              "    </tr>\n",
              "    <tr>\n",
              "      <th>min</th>\n",
              "      <td>892.000000</td>\n",
              "      <td>0.0</td>\n",
              "    </tr>\n",
              "    <tr>\n",
              "      <th>25%</th>\n",
              "      <td>996.250000</td>\n",
              "      <td>0.0</td>\n",
              "    </tr>\n",
              "    <tr>\n",
              "      <th>50%</th>\n",
              "      <td>1100.500000</td>\n",
              "      <td>0.0</td>\n",
              "    </tr>\n",
              "    <tr>\n",
              "      <th>75%</th>\n",
              "      <td>1204.750000</td>\n",
              "      <td>0.0</td>\n",
              "    </tr>\n",
              "    <tr>\n",
              "      <th>max</th>\n",
              "      <td>1309.000000</td>\n",
              "      <td>0.0</td>\n",
              "    </tr>\n",
              "  </tbody>\n",
              "</table>\n",
              "</div>"
            ],
            "text/plain": [
              "       PassengerId  Survived\n",
              "count   418.000000     418.0\n",
              "mean   1100.500000       0.0\n",
              "std     120.810458       0.0\n",
              "min     892.000000       0.0\n",
              "25%     996.250000       0.0\n",
              "50%    1100.500000       0.0\n",
              "75%    1204.750000       0.0\n",
              "max    1309.000000       0.0"
            ]
          },
          "metadata": {
            "tags": []
          },
          "execution_count": 279
        }
      ]
    },
    {
      "cell_type": "code",
      "metadata": {
        "id": "V9F4bBCSmOqv",
        "colab_type": "code",
        "colab": {}
      },
      "source": [
        ""
      ],
      "execution_count": 0,
      "outputs": []
    }
  ]
}