{
  "nbformat": 4,
  "nbformat_minor": 0,
  "metadata": {
    "colab": {
      "name": "Kaggle Titanic.ipynb",
      "version": "0.3.2",
      "provenance": [],
      "collapsed_sections": [],
      "include_colab_link": true
    },
    "kernelspec": {
      "name": "python3",
      "display_name": "Python 3"
    },
    "accelerator": "GPU"
  },
  "cells": [
    {
      "cell_type": "markdown",
      "metadata": {
        "id": "view-in-github",
        "colab_type": "text"
      },
      "source": [
        "<a href=\"https://colab.research.google.com/github/Maratinhos/hw/blob/master/Kaggle_Titanic.ipynb\" target=\"_parent\"><img src=\"https://colab.research.google.com/assets/colab-badge.svg\" alt=\"Open In Colab\"/></a>"
      ]
    },
    {
      "cell_type": "code",
      "metadata": {
        "id": "DAg1NfO6w0Hy",
        "colab_type": "code",
        "colab": {}
      },
      "source": [
        "from tensorflow.keras.models import Sequential\n",
        "from tensorflow.keras.layers import Dense, Conv2D, MaxPooling2D, Dropout, Flatten, BatchNormalization\n",
        "from tensorflow.keras import utils\n",
        "from tensorflow.keras.preprocessing import image\n",
        "from tensorflow.python.keras.preprocessing.image import ImageDataGenerator\n",
        "from tensorflow.keras.callbacks import ReduceLROnPlateau, ModelCheckpoint, EarlyStopping\n",
        "import tensorflow as tf\n",
        "from sklearn.model_selection import train_test_split\n",
        "from sklearn.preprocessing import StandardScaler\n",
        "import numpy as np\n",
        "import matplotlib.pyplot as plt\n",
        "from PIL import Image\n",
        "from google.colab import files\n",
        "import pandas as pd\n",
        "%matplotlib inline"
      ],
      "execution_count": 0,
      "outputs": []
    },
    {
      "cell_type": "code",
      "metadata": {
        "id": "HoCxiBqgxDoL",
        "colab_type": "code",
        "outputId": "c20abc61-4402-408b-9aa1-90d0bcefee7a",
        "colab": {
          "resources": {
            "http://localhost:8080/nbextensions/google.colab/files.js": {
              "data": "Ly8gQ29weXJpZ2h0IDIwMTcgR29vZ2xlIExMQwovLwovLyBMaWNlbnNlZCB1bmRlciB0aGUgQXBhY2hlIExpY2Vuc2UsIFZlcnNpb24gMi4wICh0aGUgIkxpY2Vuc2UiKTsKLy8geW91IG1heSBub3QgdXNlIHRoaXMgZmlsZSBleGNlcHQgaW4gY29tcGxpYW5jZSB3aXRoIHRoZSBMaWNlbnNlLgovLyBZb3UgbWF5IG9idGFpbiBhIGNvcHkgb2YgdGhlIExpY2Vuc2UgYXQKLy8KLy8gICAgICBodHRwOi8vd3d3LmFwYWNoZS5vcmcvbGljZW5zZXMvTElDRU5TRS0yLjAKLy8KLy8gVW5sZXNzIHJlcXVpcmVkIGJ5IGFwcGxpY2FibGUgbGF3IG9yIGFncmVlZCB0byBpbiB3cml0aW5nLCBzb2Z0d2FyZQovLyBkaXN0cmlidXRlZCB1bmRlciB0aGUgTGljZW5zZSBpcyBkaXN0cmlidXRlZCBvbiBhbiAiQVMgSVMiIEJBU0lTLAovLyBXSVRIT1VUIFdBUlJBTlRJRVMgT1IgQ09ORElUSU9OUyBPRiBBTlkgS0lORCwgZWl0aGVyIGV4cHJlc3Mgb3IgaW1wbGllZC4KLy8gU2VlIHRoZSBMaWNlbnNlIGZvciB0aGUgc3BlY2lmaWMgbGFuZ3VhZ2UgZ292ZXJuaW5nIHBlcm1pc3Npb25zIGFuZAovLyBsaW1pdGF0aW9ucyB1bmRlciB0aGUgTGljZW5zZS4KCi8qKgogKiBAZmlsZW92ZXJ2aWV3IEhlbHBlcnMgZm9yIGdvb2dsZS5jb2xhYiBQeXRob24gbW9kdWxlLgogKi8KKGZ1bmN0aW9uKHNjb3BlKSB7CmZ1bmN0aW9uIHNwYW4odGV4dCwgc3R5bGVBdHRyaWJ1dGVzID0ge30pIHsKICBjb25zdCBlbGVtZW50ID0gZG9jdW1lbnQuY3JlYXRlRWxlbWVudCgnc3BhbicpOwogIGVsZW1lbnQudGV4dENvbnRlbnQgPSB0ZXh0OwogIGZvciAoY29uc3Qga2V5IG9mIE9iamVjdC5rZXlzKHN0eWxlQXR0cmlidXRlcykpIHsKICAgIGVsZW1lbnQuc3R5bGVba2V5XSA9IHN0eWxlQXR0cmlidXRlc1trZXldOwogIH0KICByZXR1cm4gZWxlbWVudDsKfQoKLy8gTWF4IG51bWJlciBvZiBieXRlcyB3aGljaCB3aWxsIGJlIHVwbG9hZGVkIGF0IGEgdGltZS4KY29uc3QgTUFYX1BBWUxPQURfU0laRSA9IDEwMCAqIDEwMjQ7Ci8vIE1heCBhbW91bnQgb2YgdGltZSB0byBibG9jayB3YWl0aW5nIGZvciB0aGUgdXNlci4KY29uc3QgRklMRV9DSEFOR0VfVElNRU9VVF9NUyA9IDMwICogMTAwMDsKCmZ1bmN0aW9uIF91cGxvYWRGaWxlcyhpbnB1dElkLCBvdXRwdXRJZCkgewogIGNvbnN0IHN0ZXBzID0gdXBsb2FkRmlsZXNTdGVwKGlucHV0SWQsIG91dHB1dElkKTsKICBjb25zdCBvdXRwdXRFbGVtZW50ID0gZG9jdW1lbnQuZ2V0RWxlbWVudEJ5SWQob3V0cHV0SWQpOwogIC8vIENhY2hlIHN0ZXBzIG9uIHRoZSBvdXRwdXRFbGVtZW50IHRvIG1ha2UgaXQgYXZhaWxhYmxlIGZvciB0aGUgbmV4dCBjYWxsCiAgLy8gdG8gdXBsb2FkRmlsZXNDb250aW51ZSBmcm9tIFB5dGhvbi4KICBvdXRwdXRFbGVtZW50LnN0ZXBzID0gc3RlcHM7CgogIHJldHVybiBfdXBsb2FkRmlsZXNDb250aW51ZShvdXRwdXRJZCk7Cn0KCi8vIFRoaXMgaXMgcm91Z2hseSBhbiBhc3luYyBnZW5lcmF0b3IgKG5vdCBzdXBwb3J0ZWQgaW4gdGhlIGJyb3dzZXIgeWV0KSwKLy8gd2hlcmUgdGhlcmUgYXJlIG11bHRpcGxlIGFzeW5jaHJvbm91cyBzdGVwcyBhbmQgdGhlIFB5dGhvbiBzaWRlIGlzIGdvaW5nCi8vIHRvIHBvbGwgZm9yIGNvbXBsZXRpb24gb2YgZWFjaCBzdGVwLgovLyBUaGlzIHVzZXMgYSBQcm9taXNlIHRvIGJsb2NrIHRoZSBweXRob24gc2lkZSBvbiBjb21wbGV0aW9uIG9mIGVhY2ggc3RlcCwKLy8gdGhlbiBwYXNzZXMgdGhlIHJlc3VsdCBvZiB0aGUgcHJldmlvdXMgc3RlcCBhcyB0aGUgaW5wdXQgdG8gdGhlIG5leHQgc3RlcC4KZnVuY3Rpb24gX3VwbG9hZEZpbGVzQ29udGludWUob3V0cHV0SWQpIHsKICBjb25zdCBvdXRwdXRFbGVtZW50ID0gZG9jdW1lbnQuZ2V0RWxlbWVudEJ5SWQob3V0cHV0SWQpOwogIGNvbnN0IHN0ZXBzID0gb3V0cHV0RWxlbWVudC5zdGVwczsKCiAgY29uc3QgbmV4dCA9IHN0ZXBzLm5leHQob3V0cHV0RWxlbWVudC5sYXN0UHJvbWlzZVZhbHVlKTsKICByZXR1cm4gUHJvbWlzZS5yZXNvbHZlKG5leHQudmFsdWUucHJvbWlzZSkudGhlbigodmFsdWUpID0+IHsKICAgIC8vIENhY2hlIHRoZSBsYXN0IHByb21pc2UgdmFsdWUgdG8gbWFrZSBpdCBhdmFpbGFibGUgdG8gdGhlIG5leHQKICAgIC8vIHN0ZXAgb2YgdGhlIGdlbmVyYXRvci4KICAgIG91dHB1dEVsZW1lbnQubGFzdFByb21pc2VWYWx1ZSA9IHZhbHVlOwogICAgcmV0dXJuIG5leHQudmFsdWUucmVzcG9uc2U7CiAgfSk7Cn0KCi8qKgogKiBHZW5lcmF0b3IgZnVuY3Rpb24gd2hpY2ggaXMgY2FsbGVkIGJldHdlZW4gZWFjaCBhc3luYyBzdGVwIG9mIHRoZSB1cGxvYWQKICogcHJvY2Vzcy4KICogQHBhcmFtIHtzdHJpbmd9IGlucHV0SWQgRWxlbWVudCBJRCBvZiB0aGUgaW5wdXQgZmlsZSBwaWNrZXIgZWxlbWVudC4KICogQHBhcmFtIHtzdHJpbmd9IG91dHB1dElkIEVsZW1lbnQgSUQgb2YgdGhlIG91dHB1dCBkaXNwbGF5LgogKiBAcmV0dXJuIHshSXRlcmFibGU8IU9iamVjdD59IEl0ZXJhYmxlIG9mIG5leHQgc3RlcHMuCiAqLwpmdW5jdGlvbiogdXBsb2FkRmlsZXNTdGVwKGlucHV0SWQsIG91dHB1dElkKSB7CiAgY29uc3QgaW5wdXRFbGVtZW50ID0gZG9jdW1lbnQuZ2V0RWxlbWVudEJ5SWQoaW5wdXRJZCk7CiAgaW5wdXRFbGVtZW50LmRpc2FibGVkID0gZmFsc2U7CgogIGNvbnN0IG91dHB1dEVsZW1lbnQgPSBkb2N1bWVudC5nZXRFbGVtZW50QnlJZChvdXRwdXRJZCk7CiAgb3V0cHV0RWxlbWVudC5pbm5lckhUTUwgPSAnJzsKCiAgY29uc3QgcGlja2VkUHJvbWlzZSA9IG5ldyBQcm9taXNlKChyZXNvbHZlKSA9PiB7CiAgICBpbnB1dEVsZW1lbnQuYWRkRXZlbnRMaXN0ZW5lcignY2hhbmdlJywgKGUpID0+IHsKICAgICAgcmVzb2x2ZShlLnRhcmdldC5maWxlcyk7CiAgICB9KTsKICB9KTsKCiAgY29uc3QgY2FuY2VsID0gZG9jdW1lbnQuY3JlYXRlRWxlbWVudCgnYnV0dG9uJyk7CiAgaW5wdXRFbGVtZW50LnBhcmVudEVsZW1lbnQuYXBwZW5kQ2hpbGQoY2FuY2VsKTsKICBjYW5jZWwudGV4dENvbnRlbnQgPSAnQ2FuY2VsIHVwbG9hZCc7CiAgY29uc3QgY2FuY2VsUHJvbWlzZSA9IG5ldyBQcm9taXNlKChyZXNvbHZlKSA9PiB7CiAgICBjYW5jZWwub25jbGljayA9ICgpID0+IHsKICAgICAgcmVzb2x2ZShudWxsKTsKICAgIH07CiAgfSk7CgogIC8vIENhbmNlbCB1cGxvYWQgaWYgdXNlciBoYXNuJ3QgcGlja2VkIGFueXRoaW5nIGluIHRpbWVvdXQuCiAgY29uc3QgdGltZW91dFByb21pc2UgPSBuZXcgUHJvbWlzZSgocmVzb2x2ZSkgPT4gewogICAgc2V0VGltZW91dCgoKSA9PiB7CiAgICAgIHJlc29sdmUobnVsbCk7CiAgICB9LCBGSUxFX0NIQU5HRV9USU1FT1VUX01TKTsKICB9KTsKCiAgLy8gV2FpdCBmb3IgdGhlIHVzZXIgdG8gcGljayB0aGUgZmlsZXMuCiAgY29uc3QgZmlsZXMgPSB5aWVsZCB7CiAgICBwcm9taXNlOiBQcm9taXNlLnJhY2UoW3BpY2tlZFByb21pc2UsIHRpbWVvdXRQcm9taXNlLCBjYW5jZWxQcm9taXNlXSksCiAgICByZXNwb25zZTogewogICAgICBhY3Rpb246ICdzdGFydGluZycsCiAgICB9CiAgfTsKCiAgaWYgKCFmaWxlcykgewogICAgcmV0dXJuIHsKICAgICAgcmVzcG9uc2U6IHsKICAgICAgICBhY3Rpb246ICdjb21wbGV0ZScsCiAgICAgIH0KICAgIH07CiAgfQoKICBjYW5jZWwucmVtb3ZlKCk7CgogIC8vIERpc2FibGUgdGhlIGlucHV0IGVsZW1lbnQgc2luY2UgZnVydGhlciBwaWNrcyBhcmUgbm90IGFsbG93ZWQuCiAgaW5wdXRFbGVtZW50LmRpc2FibGVkID0gdHJ1ZTsKCiAgZm9yIChjb25zdCBmaWxlIG9mIGZpbGVzKSB7CiAgICBjb25zdCBsaSA9IGRvY3VtZW50LmNyZWF0ZUVsZW1lbnQoJ2xpJyk7CiAgICBsaS5hcHBlbmQoc3BhbihmaWxlLm5hbWUsIHtmb250V2VpZ2h0OiAnYm9sZCd9KSk7CiAgICBsaS5hcHBlbmQoc3BhbigKICAgICAgICBgKCR7ZmlsZS50eXBlIHx8ICduL2EnfSkgLSAke2ZpbGUuc2l6ZX0gYnl0ZXMsIGAgKwogICAgICAgIGBsYXN0IG1vZGlmaWVkOiAkewogICAgICAgICAgICBmaWxlLmxhc3RNb2RpZmllZERhdGUgPyBmaWxlLmxhc3RNb2RpZmllZERhdGUudG9Mb2NhbGVEYXRlU3RyaW5nKCkgOgogICAgICAgICAgICAgICAgICAgICAgICAgICAgICAgICAgICAnbi9hJ30gLSBgKSk7CiAgICBjb25zdCBwZXJjZW50ID0gc3BhbignMCUgZG9uZScpOwogICAgbGkuYXBwZW5kQ2hpbGQocGVyY2VudCk7CgogICAgb3V0cHV0RWxlbWVudC5hcHBlbmRDaGlsZChsaSk7CgogICAgY29uc3QgZmlsZURhdGFQcm9taXNlID0gbmV3IFByb21pc2UoKHJlc29sdmUpID0+IHsKICAgICAgY29uc3QgcmVhZGVyID0gbmV3IEZpbGVSZWFkZXIoKTsKICAgICAgcmVhZGVyLm9ubG9hZCA9IChlKSA9PiB7CiAgICAgICAgcmVzb2x2ZShlLnRhcmdldC5yZXN1bHQpOwogICAgICB9OwogICAgICByZWFkZXIucmVhZEFzQXJyYXlCdWZmZXIoZmlsZSk7CiAgICB9KTsKICAgIC8vIFdhaXQgZm9yIHRoZSBkYXRhIHRvIGJlIHJlYWR5LgogICAgbGV0IGZpbGVEYXRhID0geWllbGQgewogICAgICBwcm9taXNlOiBmaWxlRGF0YVByb21pc2UsCiAgICAgIHJlc3BvbnNlOiB7CiAgICAgICAgYWN0aW9uOiAnY29udGludWUnLAogICAgICB9CiAgICB9OwoKICAgIC8vIFVzZSBhIGNodW5rZWQgc2VuZGluZyB0byBhdm9pZCBtZXNzYWdlIHNpemUgbGltaXRzLiBTZWUgYi82MjExNTY2MC4KICAgIGxldCBwb3NpdGlvbiA9IDA7CiAgICB3aGlsZSAocG9zaXRpb24gPCBmaWxlRGF0YS5ieXRlTGVuZ3RoKSB7CiAgICAgIGNvbnN0IGxlbmd0aCA9IE1hdGgubWluKGZpbGVEYXRhLmJ5dGVMZW5ndGggLSBwb3NpdGlvbiwgTUFYX1BBWUxPQURfU0laRSk7CiAgICAgIGNvbnN0IGNodW5rID0gbmV3IFVpbnQ4QXJyYXkoZmlsZURhdGEsIHBvc2l0aW9uLCBsZW5ndGgpOwogICAgICBwb3NpdGlvbiArPSBsZW5ndGg7CgogICAgICBjb25zdCBiYXNlNjQgPSBidG9hKFN0cmluZy5mcm9tQ2hhckNvZGUuYXBwbHkobnVsbCwgY2h1bmspKTsKICAgICAgeWllbGQgewogICAgICAgIHJlc3BvbnNlOiB7CiAgICAgICAgICBhY3Rpb246ICdhcHBlbmQnLAogICAgICAgICAgZmlsZTogZmlsZS5uYW1lLAogICAgICAgICAgZGF0YTogYmFzZTY0LAogICAgICAgIH0sCiAgICAgIH07CiAgICAgIHBlcmNlbnQudGV4dENvbnRlbnQgPQogICAgICAgICAgYCR7TWF0aC5yb3VuZCgocG9zaXRpb24gLyBmaWxlRGF0YS5ieXRlTGVuZ3RoKSAqIDEwMCl9JSBkb25lYDsKICAgIH0KICB9CgogIC8vIEFsbCBkb25lLgogIHlpZWxkIHsKICAgIHJlc3BvbnNlOiB7CiAgICAgIGFjdGlvbjogJ2NvbXBsZXRlJywKICAgIH0KICB9Owp9CgpzY29wZS5nb29nbGUgPSBzY29wZS5nb29nbGUgfHwge307CnNjb3BlLmdvb2dsZS5jb2xhYiA9IHNjb3BlLmdvb2dsZS5jb2xhYiB8fCB7fTsKc2NvcGUuZ29vZ2xlLmNvbGFiLl9maWxlcyA9IHsKICBfdXBsb2FkRmlsZXMsCiAgX3VwbG9hZEZpbGVzQ29udGludWUsCn07Cn0pKHNlbGYpOwo=",
              "ok": true,
              "headers": [
                [
                  "content-type",
                  "application/javascript"
                ]
              ],
              "status": 200,
              "status_text": ""
            }
          },
          "base_uri": "https://localhost:8080/",
          "height": 74
        }
      },
      "source": [
        "file = files.upload()"
      ],
      "execution_count": 281,
      "outputs": [
        {
          "output_type": "display_data",
          "data": {
            "text/html": [
              "\n",
              "     <input type=\"file\" id=\"files-b9d36dec-7c1d-4a7f-8f45-0dc7078bdf45\" name=\"files[]\" multiple disabled />\n",
              "     <output id=\"result-b9d36dec-7c1d-4a7f-8f45-0dc7078bdf45\">\n",
              "      Upload widget is only available when the cell has been executed in the\n",
              "      current browser session. Please rerun this cell to enable.\n",
              "      </output>\n",
              "      <script src=\"/nbextensions/google.colab/files.js\"></script> "
            ],
            "text/plain": [
              "<IPython.core.display.HTML object>"
            ]
          },
          "metadata": {
            "tags": []
          }
        },
        {
          "output_type": "stream",
          "text": [
            "Saving kaggle.json to kaggle (1).json\n"
          ],
          "name": "stdout"
        }
      ]
    },
    {
      "cell_type": "code",
      "metadata": {
        "id": "mqkiFaKnxIW9",
        "colab_type": "code",
        "outputId": "bed2275c-a04b-410e-e540-8b42ed48e6e7",
        "colab": {
          "base_uri": "https://localhost:8080/",
          "height": 51
        }
      },
      "source": [
        "!ls"
      ],
      "execution_count": 282,
      "outputs": [
        {
          "output_type": "stream",
          "text": [
            " gender_submission.csv\t kaggle.json\t       prediction.csv   test.csv\n",
            "'kaggle (1).json'\t kaggle-titanic.hdf5   sample_data      train.csv\n"
          ],
          "name": "stdout"
        }
      ]
    },
    {
      "cell_type": "code",
      "metadata": {
        "id": "YrSIN64cxJUn",
        "colab_type": "code",
        "colab": {}
      },
      "source": [
        "!mkdir ~/.kaggle"
      ],
      "execution_count": 0,
      "outputs": []
    },
    {
      "cell_type": "code",
      "metadata": {
        "id": "wyQdM9t0xQJ6",
        "colab_type": "code",
        "colab": {}
      },
      "source": [
        "!mv kaggle.json ~/.kaggle"
      ],
      "execution_count": 0,
      "outputs": []
    },
    {
      "cell_type": "code",
      "metadata": {
        "id": "f8NOzZ6bxWnN",
        "colab_type": "code",
        "colab": {}
      },
      "source": [
        "!chmod 600 /root/.kaggle/kaggle.json"
      ],
      "execution_count": 0,
      "outputs": []
    },
    {
      "cell_type": "code",
      "metadata": {
        "id": "aETEgBEixYtG",
        "colab_type": "code",
        "outputId": "1ee38cae-0490-4a6c-eb93-60de065c7680",
        "colab": {
          "base_uri": "https://localhost:8080/",
          "height": 170
        }
      },
      "source": [
        "!kaggle competitions download -c titanic"
      ],
      "execution_count": 0,
      "outputs": [
        {
          "output_type": "stream",
          "text": [
            "Downloading train.csv to /content\n",
            "\r  0% 0.00/59.8k [00:00<?, ?B/s]\n",
            "100% 59.8k/59.8k [00:00<00:00, 51.6MB/s]\n",
            "Downloading test.csv to /content\n",
            "  0% 0.00/28.0k [00:00<?, ?B/s]\n",
            "100% 28.0k/28.0k [00:00<00:00, 23.6MB/s]\n",
            "Downloading gender_submission.csv to /content\n",
            "  0% 0.00/3.18k [00:00<?, ?B/s]\n",
            "100% 3.18k/3.18k [00:00<00:00, 3.26MB/s]\n"
          ],
          "name": "stdout"
        }
      ]
    },
    {
      "cell_type": "code",
      "metadata": {
        "id": "LIVtWtigxdex",
        "colab_type": "code",
        "colab": {}
      },
      "source": [
        "df = pd.read_csv('train.csv')\n",
        "df_test = pd.read_csv('test.csv')"
      ],
      "execution_count": 0,
      "outputs": []
    },
    {
      "cell_type": "code",
      "metadata": {
        "id": "o4d4PtdvyHfo",
        "colab_type": "code",
        "outputId": "ad4a1602-8a58-49f2-d840-9f1e06afb8cf",
        "colab": {
          "base_uri": "https://localhost:8080/",
          "height": 204
        }
      },
      "source": [
        "df.head()"
      ],
      "execution_count": 379,
      "outputs": [
        {
          "output_type": "execute_result",
          "data": {
            "text/html": [
              "<div>\n",
              "<style scoped>\n",
              "    .dataframe tbody tr th:only-of-type {\n",
              "        vertical-align: middle;\n",
              "    }\n",
              "\n",
              "    .dataframe tbody tr th {\n",
              "        vertical-align: top;\n",
              "    }\n",
              "\n",
              "    .dataframe thead th {\n",
              "        text-align: right;\n",
              "    }\n",
              "</style>\n",
              "<table border=\"1\" class=\"dataframe\">\n",
              "  <thead>\n",
              "    <tr style=\"text-align: right;\">\n",
              "      <th></th>\n",
              "      <th>PassengerId</th>\n",
              "      <th>Survived</th>\n",
              "      <th>Pclass</th>\n",
              "      <th>Name</th>\n",
              "      <th>Sex</th>\n",
              "      <th>Age</th>\n",
              "      <th>SibSp</th>\n",
              "      <th>Parch</th>\n",
              "      <th>Ticket</th>\n",
              "      <th>Fare</th>\n",
              "      <th>Cabin</th>\n",
              "      <th>Embarked</th>\n",
              "      <th>Cabin2</th>\n",
              "    </tr>\n",
              "  </thead>\n",
              "  <tbody>\n",
              "    <tr>\n",
              "      <th>0</th>\n",
              "      <td>1</td>\n",
              "      <td>0</td>\n",
              "      <td>3</td>\n",
              "      <td>Braund, Mr. Owen Harris</td>\n",
              "      <td>0</td>\n",
              "      <td>22.0</td>\n",
              "      <td>1</td>\n",
              "      <td>0</td>\n",
              "      <td>A/5 21171</td>\n",
              "      <td>7.2500</td>\n",
              "      <td>NaN</td>\n",
              "      <td>0.0</td>\n",
              "      <td>1</td>\n",
              "    </tr>\n",
              "    <tr>\n",
              "      <th>1</th>\n",
              "      <td>2</td>\n",
              "      <td>1</td>\n",
              "      <td>1</td>\n",
              "      <td>Cumings, Mrs. John Bradley (Florence Briggs Th...</td>\n",
              "      <td>1</td>\n",
              "      <td>38.0</td>\n",
              "      <td>1</td>\n",
              "      <td>0</td>\n",
              "      <td>PC 17599</td>\n",
              "      <td>71.2833</td>\n",
              "      <td>C85</td>\n",
              "      <td>1.0</td>\n",
              "      <td>0</td>\n",
              "    </tr>\n",
              "    <tr>\n",
              "      <th>2</th>\n",
              "      <td>3</td>\n",
              "      <td>1</td>\n",
              "      <td>3</td>\n",
              "      <td>Heikkinen, Miss. Laina</td>\n",
              "      <td>1</td>\n",
              "      <td>26.0</td>\n",
              "      <td>0</td>\n",
              "      <td>0</td>\n",
              "      <td>STON/O2. 3101282</td>\n",
              "      <td>7.9250</td>\n",
              "      <td>NaN</td>\n",
              "      <td>0.0</td>\n",
              "      <td>1</td>\n",
              "    </tr>\n",
              "    <tr>\n",
              "      <th>3</th>\n",
              "      <td>4</td>\n",
              "      <td>1</td>\n",
              "      <td>1</td>\n",
              "      <td>Futrelle, Mrs. Jacques Heath (Lily May Peel)</td>\n",
              "      <td>1</td>\n",
              "      <td>35.0</td>\n",
              "      <td>1</td>\n",
              "      <td>0</td>\n",
              "      <td>113803</td>\n",
              "      <td>53.1000</td>\n",
              "      <td>C123</td>\n",
              "      <td>0.0</td>\n",
              "      <td>0</td>\n",
              "    </tr>\n",
              "    <tr>\n",
              "      <th>4</th>\n",
              "      <td>5</td>\n",
              "      <td>0</td>\n",
              "      <td>3</td>\n",
              "      <td>Allen, Mr. William Henry</td>\n",
              "      <td>0</td>\n",
              "      <td>35.0</td>\n",
              "      <td>0</td>\n",
              "      <td>0</td>\n",
              "      <td>373450</td>\n",
              "      <td>8.0500</td>\n",
              "      <td>NaN</td>\n",
              "      <td>0.0</td>\n",
              "      <td>1</td>\n",
              "    </tr>\n",
              "  </tbody>\n",
              "</table>\n",
              "</div>"
            ],
            "text/plain": [
              "   PassengerId  Survived  Pclass  ... Cabin  Embarked  Cabin2\n",
              "0            1         0       3  ...   NaN       0.0       1\n",
              "1            2         1       1  ...   C85       1.0       0\n",
              "2            3         1       3  ...   NaN       0.0       1\n",
              "3            4         1       1  ...  C123       0.0       0\n",
              "4            5         0       3  ...   NaN       0.0       1\n",
              "\n",
              "[5 rows x 13 columns]"
            ]
          },
          "metadata": {
            "tags": []
          },
          "execution_count": 379
        }
      ]
    },
    {
      "cell_type": "code",
      "metadata": {
        "id": "fDtTiuiw7fF_",
        "colab_type": "code",
        "colab": {}
      },
      "source": [
        "df['Cabin2'] = pd.isnull(df['Cabin'])\n",
        "df['Cabin2'] = df['Cabin2'].astype(int)\n",
        "\n",
        "df_test['Cabin2'] = pd.isnull(df_test['Cabin'])\n",
        "df_test['Cabin2'] = df_test['Cabin2'].astype(int)"
      ],
      "execution_count": 0,
      "outputs": []
    },
    {
      "cell_type": "code",
      "metadata": {
        "id": "1HXfKS1X2Fpr",
        "colab_type": "code",
        "colab": {}
      },
      "source": [
        "df['Sex'] = df['Sex'].replace('male', 0)\n",
        "df['Sex'] = df['Sex'].replace('female', 1)\n",
        "df['Embarked'] = df['Embarked'].replace('S', 0)\n",
        "df['Embarked'] = df['Embarked'].replace('C', 1)\n",
        "df['Embarked'] = df['Embarked'].replace('Q', 2)\n",
        "\n",
        "df_test['Sex'] = df_test['Sex'].replace('male', 0)\n",
        "df_test['Sex'] = df_test['Sex'].replace('female', 1)\n",
        "df_test['Embarked'] = df_test['Embarked'].replace('S', 0)\n",
        "df_test['Embarked'] = df_test['Embarked'].replace('C', 1)\n",
        "df_test['Embarked'] = df_test['Embarked'].replace('Q', 2)"
      ],
      "execution_count": 0,
      "outputs": []
    },
    {
      "cell_type": "code",
      "metadata": {
        "id": "zbNE5-0LGQGr",
        "colab_type": "code",
        "colab": {}
      },
      "source": [
        "x = df[['Pclass', 'Sex', 'Age', 'SibSp', 'Parch', 'Fare', 'Embarked', 'Cabin2']]\n",
        "y = df['Survived']\n",
        "\n",
        "x_test = df_test[['Pclass', 'Sex', 'Age', 'SibSp', 'Parch', 'Fare', 'Embarked', 'Cabin2']]"
      ],
      "execution_count": 0,
      "outputs": []
    },
    {
      "cell_type": "code",
      "metadata": {
        "id": "Clb3M_PnfMzl",
        "colab_type": "code",
        "colab": {}
      },
      "source": [
        "x = x.fillna(x.mean())\n",
        "\n",
        "x_test = x_test.fillna(x_test.mean())"
      ],
      "execution_count": 0,
      "outputs": []
    },
    {
      "cell_type": "code",
      "metadata": {
        "id": "5V7Y7_sNHhSk",
        "colab_type": "code",
        "colab": {}
      },
      "source": [
        "x_train, x_val, y_train, y_val = train_test_split(x,y,test_size=0.1, shuffle=True)"
      ],
      "execution_count": 0,
      "outputs": []
    },
    {
      "cell_type": "code",
      "metadata": {
        "id": "imdIytGqI08o",
        "colab_type": "code",
        "colab": {}
      },
      "source": [
        "scaler = StandardScaler()\n",
        "x_train_scaled = scaler.fit_transform(x_train)\n",
        "x_val_scaled = scaler.fit_transform(x_val)\n",
        "\n",
        "x_test_scaled = scaler.fit_transform(x_test)"
      ],
      "execution_count": 0,
      "outputs": []
    },
    {
      "cell_type": "code",
      "metadata": {
        "id": "fw9tsUN9Os8q",
        "colab_type": "code",
        "colab": {}
      },
      "source": [
        "x_train_scaled = x_train_scaled.astype(np.float32)\n",
        "x_val_scaled = x_val_scaled.astype(np.float32)\n",
        "y_train = y_train.astype(np.float32)\n",
        "y_val = y_val.astype(np.float32)\n",
        "\n",
        "x_test_scaled = x_test_scaled.astype(np.float32)"
      ],
      "execution_count": 0,
      "outputs": []
    },
    {
      "cell_type": "code",
      "metadata": {
        "id": "p-6u3a1qUcZP",
        "colab_type": "code",
        "colab": {}
      },
      "source": [
        "x_train_scaled = np.array(x_train_scaled)\n",
        "x_val_scaled = np.array(x_val_scaled)\n",
        "y_train = np.array(y_train)\n",
        "y_val = np.array(y_val)\n",
        "\n",
        "x_test_scaled = np.array(x_test_scaled)"
      ],
      "execution_count": 0,
      "outputs": []
    },
    {
      "cell_type": "code",
      "metadata": {
        "id": "hwGnacrkL4Al",
        "colab_type": "code",
        "colab": {}
      },
      "source": [
        "model = Sequential([\n",
        "    Dense(32, activation='relu', input_shape=(8,)),\n",
        "    #BatchNormalization(),\n",
        "    #Dropout(0.3),\n",
        "    Dense(32, activation='relu'),\n",
        "    #BatchNormalization(),\n",
        "    #Dropout(0.3),\n",
        "    Dense(64, activation='relu'),\n",
        "    #BatchNormalization(),\n",
        "    #Dropout(0.3),\n",
        "    #Dense(512, activation='relu'),\n",
        "    #BatchNormalization(),\n",
        "    #Dropout(0.3),\n",
        "    Dense(1, activation='sigmoid')\n",
        "])\n",
        "\n",
        "model.compile(optimizer='adam', loss='binary_crossentropy', metrics = ['accuracy'])\n",
        "\n",
        "checkpoint = ModelCheckpoint('kaggle-titanic.hdf5', monitor = 'val_acc', save_best_only = True, verbose = 1, mode = 'max')\n",
        "\n",
        "learning_rate_reduction = ReduceLROnPlateau(monitor = 'val_acc', patience = 3, verbose = 1, factor = 0.8, min_lr = 0.01)\n",
        "\n",
        "early_stopping = EarlyStopping(monitor = 'val_loss', patience = 10, verbose = 1, restore_best_weights = True)"
      ],
      "execution_count": 0,
      "outputs": []
    },
    {
      "cell_type": "code",
      "metadata": {
        "id": "4thyQ3gvNaJ7",
        "colab_type": "code",
        "outputId": "a2361c54-b9ea-47d6-e137-16c7bd102e87",
        "colab": {
          "base_uri": "https://localhost:8080/",
          "height": 1000
        }
      },
      "source": [
        "history = model.fit(x_train_scaled, \n",
        "                    y_train, \n",
        "                    batch_size = 128,\n",
        "                    validation_data = (x_val_scaled, y_val), \n",
        "                    epochs = 100,\n",
        "                    verbose = 1,\n",
        "                    callbacks = [checkpoint, learning_rate_reduction, early_stopping])"
      ],
      "execution_count": 402,
      "outputs": [
        {
          "output_type": "stream",
          "text": [
            "Train on 801 samples, validate on 90 samples\n",
            "Epoch 1/100\n",
            "128/801 [===>..........................] - ETA: 2s - loss: 0.6761 - acc: 0.6094\n",
            "Epoch 00001: val_acc improved from -inf to 0.66667, saving model to kaggle-titanic.hdf5\n",
            "801/801 [==============================] - 6s 8ms/sample - loss: 0.6476 - acc: 0.7079 - val_loss: 0.6136 - val_acc: 0.6667\n",
            "Epoch 2/100\n",
            "128/801 [===>..........................] - ETA: 0s - loss: 0.6098 - acc: 0.6719\n",
            "Epoch 00002: val_acc did not improve from 0.66667\n",
            "801/801 [==============================] - 0s 48us/sample - loss: 0.5903 - acc: 0.7166 - val_loss: 0.5809 - val_acc: 0.6667\n",
            "Epoch 3/100\n",
            "128/801 [===>..........................] - ETA: 0s - loss: 0.5815 - acc: 0.7031\n",
            "Epoch 00003: val_acc improved from 0.66667 to 0.70000, saving model to kaggle-titanic.hdf5\n",
            "801/801 [==============================] - 0s 68us/sample - loss: 0.5500 - acc: 0.7391 - val_loss: 0.5558 - val_acc: 0.7000\n",
            "Epoch 4/100\n",
            "128/801 [===>..........................] - ETA: 0s - loss: 0.6015 - acc: 0.6328\n",
            "Epoch 00004: val_acc improved from 0.70000 to 0.75556, saving model to kaggle-titanic.hdf5\n",
            "801/801 [==============================] - 0s 66us/sample - loss: 0.5146 - acc: 0.7516 - val_loss: 0.5334 - val_acc: 0.7556\n",
            "Epoch 5/100\n",
            "128/801 [===>..........................] - ETA: 0s - loss: 0.4854 - acc: 0.7500\n",
            "Epoch 00005: val_acc did not improve from 0.75556\n",
            "801/801 [==============================] - 0s 39us/sample - loss: 0.4828 - acc: 0.7803 - val_loss: 0.5186 - val_acc: 0.7444\n",
            "Epoch 6/100\n",
            "128/801 [===>..........................] - ETA: 0s - loss: 0.4660 - acc: 0.8125\n",
            "Epoch 00006: val_acc did not improve from 0.75556\n",
            "801/801 [==============================] - 0s 41us/sample - loss: 0.4566 - acc: 0.8077 - val_loss: 0.5104 - val_acc: 0.7444\n",
            "Epoch 7/100\n",
            "128/801 [===>..........................] - ETA: 0s - loss: 0.4573 - acc: 0.7812\n",
            "Epoch 00007: val_acc did not improve from 0.75556\n",
            "801/801 [==============================] - 0s 42us/sample - loss: 0.4400 - acc: 0.8265 - val_loss: 0.5053 - val_acc: 0.7333\n",
            "Epoch 8/100\n",
            "128/801 [===>..........................] - ETA: 0s - loss: 0.3879 - acc: 0.8984\n",
            "Epoch 00008: val_acc did not improve from 0.75556\n",
            "801/801 [==============================] - 0s 44us/sample - loss: 0.4242 - acc: 0.8327 - val_loss: 0.5038 - val_acc: 0.7444\n",
            "Epoch 9/100\n",
            "128/801 [===>..........................] - ETA: 0s - loss: 0.3720 - acc: 0.8438\n",
            "Epoch 00009: val_acc did not improve from 0.75556\n",
            "801/801 [==============================] - 0s 42us/sample - loss: 0.4147 - acc: 0.8352 - val_loss: 0.5058 - val_acc: 0.7444\n",
            "Epoch 10/100\n",
            "128/801 [===>..........................] - ETA: 0s - loss: 0.3738 - acc: 0.8594\n",
            "Epoch 00010: val_acc did not improve from 0.75556\n",
            "801/801 [==============================] - 0s 38us/sample - loss: 0.4092 - acc: 0.8327 - val_loss: 0.5092 - val_acc: 0.7556\n",
            "Epoch 11/100\n",
            "128/801 [===>..........................] - ETA: 0s - loss: 0.4692 - acc: 0.8359\n",
            "Epoch 00011: val_acc did not improve from 0.75556\n",
            "801/801 [==============================] - 0s 44us/sample - loss: 0.4048 - acc: 0.8365 - val_loss: 0.4996 - val_acc: 0.7556\n",
            "Epoch 12/100\n",
            "128/801 [===>..........................] - ETA: 0s - loss: 0.4121 - acc: 0.8281\n",
            "Epoch 00012: val_acc did not improve from 0.75556\n",
            "801/801 [==============================] - 0s 41us/sample - loss: 0.4012 - acc: 0.8340 - val_loss: 0.4926 - val_acc: 0.7556\n",
            "Epoch 13/100\n",
            "128/801 [===>..........................] - ETA: 0s - loss: 0.4048 - acc: 0.8125\n",
            "Epoch 00013: val_acc improved from 0.75556 to 0.76667, saving model to kaggle-titanic.hdf5\n",
            "801/801 [==============================] - 0s 74us/sample - loss: 0.3970 - acc: 0.8365 - val_loss: 0.4905 - val_acc: 0.7667\n",
            "Epoch 14/100\n",
            "128/801 [===>..........................] - ETA: 0s - loss: 0.4955 - acc: 0.7812\n",
            "Epoch 00014: val_acc improved from 0.76667 to 0.81111, saving model to kaggle-titanic.hdf5\n",
            "801/801 [==============================] - 0s 69us/sample - loss: 0.3979 - acc: 0.8402 - val_loss: 0.4900 - val_acc: 0.8111\n",
            "Epoch 15/100\n",
            "128/801 [===>..........................] - ETA: 0s - loss: 0.3884 - acc: 0.8047\n",
            "Epoch 00015: val_acc did not improve from 0.81111\n",
            "801/801 [==============================] - 0s 53us/sample - loss: 0.3945 - acc: 0.8427 - val_loss: 0.4838 - val_acc: 0.7667\n",
            "Epoch 16/100\n",
            "128/801 [===>..........................] - ETA: 0s - loss: 0.4780 - acc: 0.7969\n",
            "Epoch 00016: val_acc did not improve from 0.81111\n",
            "801/801 [==============================] - 0s 44us/sample - loss: 0.3933 - acc: 0.8340 - val_loss: 0.4771 - val_acc: 0.7556\n",
            "Epoch 17/100\n",
            "128/801 [===>..........................] - ETA: 0s - loss: 0.3405 - acc: 0.8516\n",
            "Epoch 00017: val_acc did not improve from 0.81111\n",
            "801/801 [==============================] - 0s 39us/sample - loss: 0.3889 - acc: 0.8365 - val_loss: 0.4793 - val_acc: 0.7667\n",
            "Epoch 18/100\n",
            "128/801 [===>..........................] - ETA: 0s - loss: 0.3685 - acc: 0.8359\n",
            "Epoch 00018: val_acc did not improve from 0.81111\n",
            "801/801 [==============================] - 0s 37us/sample - loss: 0.3877 - acc: 0.8377 - val_loss: 0.4815 - val_acc: 0.7667\n",
            "Epoch 19/100\n",
            "128/801 [===>..........................] - ETA: 0s - loss: 0.3758 - acc: 0.8516\n",
            "Epoch 00019: val_acc did not improve from 0.81111\n",
            "801/801 [==============================] - 0s 40us/sample - loss: 0.3868 - acc: 0.8427 - val_loss: 0.4794 - val_acc: 0.7889\n",
            "Epoch 20/100\n",
            "128/801 [===>..........................] - ETA: 0s - loss: 0.3951 - acc: 0.8281\n",
            "Epoch 00020: val_acc did not improve from 0.81111\n",
            "801/801 [==============================] - 0s 44us/sample - loss: 0.3838 - acc: 0.8427 - val_loss: 0.4731 - val_acc: 0.7778\n",
            "Epoch 21/100\n",
            "128/801 [===>..........................] - ETA: 0s - loss: 0.4678 - acc: 0.8125\n",
            "Epoch 00021: val_acc did not improve from 0.81111\n",
            "801/801 [==============================] - 0s 45us/sample - loss: 0.3836 - acc: 0.8402 - val_loss: 0.4695 - val_acc: 0.7778\n",
            "Epoch 22/100\n",
            "128/801 [===>..........................] - ETA: 0s - loss: 0.4686 - acc: 0.7500\n",
            "Epoch 00022: val_acc did not improve from 0.81111\n",
            "801/801 [==============================] - 0s 41us/sample - loss: 0.3822 - acc: 0.8390 - val_loss: 0.4725 - val_acc: 0.7889\n",
            "Epoch 23/100\n",
            "128/801 [===>..........................] - ETA: 0s - loss: 0.3063 - acc: 0.8594\n",
            "Epoch 00023: val_acc did not improve from 0.81111\n",
            "801/801 [==============================] - 0s 43us/sample - loss: 0.3792 - acc: 0.8402 - val_loss: 0.4695 - val_acc: 0.7778\n",
            "Epoch 24/100\n",
            "128/801 [===>..........................] - ETA: 0s - loss: 0.3867 - acc: 0.8516\n",
            "Epoch 00024: val_acc did not improve from 0.81111\n",
            "801/801 [==============================] - 0s 42us/sample - loss: 0.3784 - acc: 0.8402 - val_loss: 0.4680 - val_acc: 0.7889\n",
            "Epoch 25/100\n",
            "128/801 [===>..........................] - ETA: 0s - loss: 0.3595 - acc: 0.8594\n",
            "Epoch 00025: val_acc did not improve from 0.81111\n",
            "801/801 [==============================] - 0s 37us/sample - loss: 0.3772 - acc: 0.8390 - val_loss: 0.4698 - val_acc: 0.7889\n",
            "Epoch 26/100\n",
            "128/801 [===>..........................] - ETA: 0s - loss: 0.3031 - acc: 0.8984\n",
            "Epoch 00026: val_acc did not improve from 0.81111\n",
            "801/801 [==============================] - 0s 41us/sample - loss: 0.3765 - acc: 0.8402 - val_loss: 0.4655 - val_acc: 0.8000\n",
            "Epoch 27/100\n",
            "128/801 [===>..........................] - ETA: 0s - loss: 0.3450 - acc: 0.8516\n",
            "Epoch 00027: val_acc did not improve from 0.81111\n",
            "801/801 [==============================] - 0s 40us/sample - loss: 0.3738 - acc: 0.8439 - val_loss: 0.4545 - val_acc: 0.7889\n",
            "Epoch 28/100\n",
            "128/801 [===>..........................] - ETA: 0s - loss: 0.3703 - acc: 0.8125\n",
            "Epoch 00028: val_acc did not improve from 0.81111\n",
            "801/801 [==============================] - 0s 42us/sample - loss: 0.3732 - acc: 0.8439 - val_loss: 0.4545 - val_acc: 0.7889\n",
            "Epoch 29/100\n",
            "128/801 [===>..........................] - ETA: 0s - loss: 0.3659 - acc: 0.8594\n",
            "Epoch 00029: val_acc did not improve from 0.81111\n",
            "801/801 [==============================] - 0s 41us/sample - loss: 0.3715 - acc: 0.8464 - val_loss: 0.4566 - val_acc: 0.8000\n",
            "Epoch 30/100\n",
            "128/801 [===>..........................] - ETA: 0s - loss: 0.4609 - acc: 0.7812\n",
            "Epoch 00030: val_acc improved from 0.81111 to 0.82222, saving model to kaggle-titanic.hdf5\n",
            "801/801 [==============================] - 0s 71us/sample - loss: 0.3708 - acc: 0.8427 - val_loss: 0.4613 - val_acc: 0.8222\n",
            "Epoch 31/100\n",
            "128/801 [===>..........................] - ETA: 0s - loss: 0.4154 - acc: 0.8203\n",
            "Epoch 00031: val_acc did not improve from 0.82222\n",
            "801/801 [==============================] - 0s 40us/sample - loss: 0.3684 - acc: 0.8427 - val_loss: 0.4564 - val_acc: 0.8000\n",
            "Epoch 32/100\n",
            "128/801 [===>..........................] - ETA: 0s - loss: 0.4045 - acc: 0.8438\n",
            "Epoch 00032: val_acc did not improve from 0.82222\n",
            "801/801 [==============================] - 0s 35us/sample - loss: 0.3665 - acc: 0.8452 - val_loss: 0.4568 - val_acc: 0.8000\n",
            "Epoch 33/100\n",
            "128/801 [===>..........................] - ETA: 0s - loss: 0.4067 - acc: 0.8281\n",
            "Epoch 00033: val_acc did not improve from 0.82222\n",
            "801/801 [==============================] - 0s 43us/sample - loss: 0.3656 - acc: 0.8477 - val_loss: 0.4574 - val_acc: 0.8000\n",
            "Epoch 34/100\n",
            "128/801 [===>..........................] - ETA: 0s - loss: 0.3638 - acc: 0.8359\n",
            "Epoch 00034: val_acc did not improve from 0.82222\n",
            "801/801 [==============================] - 0s 42us/sample - loss: 0.3644 - acc: 0.8477 - val_loss: 0.4580 - val_acc: 0.8222\n",
            "Epoch 35/100\n",
            "128/801 [===>..........................] - ETA: 0s - loss: 0.3220 - acc: 0.8984\n",
            "Epoch 00035: val_acc improved from 0.82222 to 0.83333, saving model to kaggle-titanic.hdf5\n",
            "801/801 [==============================] - 0s 73us/sample - loss: 0.3649 - acc: 0.8477 - val_loss: 0.4522 - val_acc: 0.8333\n",
            "Epoch 36/100\n",
            "128/801 [===>..........................] - ETA: 0s - loss: 0.3544 - acc: 0.8438\n",
            "Epoch 00036: val_acc did not improve from 0.83333\n",
            "801/801 [==============================] - 0s 43us/sample - loss: 0.3620 - acc: 0.8489 - val_loss: 0.4500 - val_acc: 0.8111\n",
            "Epoch 37/100\n",
            "128/801 [===>..........................] - ETA: 0s - loss: 0.3673 - acc: 0.8516\n",
            "Epoch 00037: val_acc did not improve from 0.83333\n",
            "801/801 [==============================] - 0s 37us/sample - loss: 0.3604 - acc: 0.8477 - val_loss: 0.4518 - val_acc: 0.8111\n",
            "Epoch 38/100\n",
            "128/801 [===>..........................] - ETA: 0s - loss: 0.3693 - acc: 0.8438\n",
            "Epoch 00038: val_acc did not improve from 0.83333\n",
            "801/801 [==============================] - 0s 42us/sample - loss: 0.3587 - acc: 0.8477 - val_loss: 0.4547 - val_acc: 0.8111\n",
            "Epoch 39/100\n",
            "128/801 [===>..........................] - ETA: 0s - loss: 0.3979 - acc: 0.8125\n",
            "Epoch 00039: val_acc did not improve from 0.83333\n",
            "801/801 [==============================] - 0s 40us/sample - loss: 0.3586 - acc: 0.8439 - val_loss: 0.4559 - val_acc: 0.8111\n",
            "Epoch 40/100\n",
            "128/801 [===>..........................] - ETA: 0s - loss: 0.3442 - acc: 0.8516\n",
            "Epoch 00040: val_acc did not improve from 0.83333\n",
            "801/801 [==============================] - 0s 38us/sample - loss: 0.3567 - acc: 0.8439 - val_loss: 0.4541 - val_acc: 0.7778\n",
            "Epoch 41/100\n",
            "128/801 [===>..........................] - ETA: 0s - loss: 0.4000 - acc: 0.8125\n",
            "Epoch 00041: val_acc did not improve from 0.83333\n",
            "801/801 [==============================] - 0s 50us/sample - loss: 0.3564 - acc: 0.8539 - val_loss: 0.4515 - val_acc: 0.7889\n",
            "Epoch 42/100\n",
            "128/801 [===>..........................] - ETA: 0s - loss: 0.4261 - acc: 0.8047\n",
            "Epoch 00042: val_acc did not improve from 0.83333\n",
            "801/801 [==============================] - 0s 41us/sample - loss: 0.3554 - acc: 0.8502 - val_loss: 0.4510 - val_acc: 0.8222\n",
            "Epoch 43/100\n",
            "128/801 [===>..........................] - ETA: 0s - loss: 0.3870 - acc: 0.8438\n",
            "Epoch 00043: val_acc did not improve from 0.83333\n",
            "801/801 [==============================] - 0s 45us/sample - loss: 0.3548 - acc: 0.8502 - val_loss: 0.4498 - val_acc: 0.7889\n",
            "Epoch 44/100\n",
            "128/801 [===>..........................] - ETA: 0s - loss: 0.3547 - acc: 0.8594\n",
            "Epoch 00044: val_acc did not improve from 0.83333\n",
            "801/801 [==============================] - 0s 42us/sample - loss: 0.3531 - acc: 0.8527 - val_loss: 0.4498 - val_acc: 0.8000\n",
            "Epoch 45/100\n",
            "128/801 [===>..........................] - ETA: 0s - loss: 0.3395 - acc: 0.8359\n",
            "Epoch 00045: val_acc did not improve from 0.83333\n",
            "801/801 [==============================] - 0s 39us/sample - loss: 0.3525 - acc: 0.8527 - val_loss: 0.4541 - val_acc: 0.8111\n",
            "Epoch 46/100\n",
            "128/801 [===>..........................] - ETA: 0s - loss: 0.3463 - acc: 0.8359\n",
            "Epoch 00046: val_acc did not improve from 0.83333\n",
            "801/801 [==============================] - 0s 44us/sample - loss: 0.3508 - acc: 0.8527 - val_loss: 0.4555 - val_acc: 0.8111\n",
            "Epoch 47/100\n",
            "128/801 [===>..........................] - ETA: 0s - loss: 0.2634 - acc: 0.9062\n",
            "Epoch 00047: val_acc did not improve from 0.83333\n",
            "801/801 [==============================] - 0s 38us/sample - loss: 0.3506 - acc: 0.8489 - val_loss: 0.4581 - val_acc: 0.8000\n",
            "Epoch 48/100\n",
            "128/801 [===>..........................] - ETA: 0s - loss: 0.3158 - acc: 0.8672\n",
            "Epoch 00048: val_acc did not improve from 0.83333\n",
            "801/801 [==============================] - 0s 43us/sample - loss: 0.3490 - acc: 0.8539 - val_loss: 0.4525 - val_acc: 0.7889\n",
            "Epoch 49/100\n",
            "128/801 [===>..........................] - ETA: 0s - loss: 0.3424 - acc: 0.8516\n",
            "Epoch 00049: val_acc did not improve from 0.83333\n",
            "801/801 [==============================] - 0s 40us/sample - loss: 0.3493 - acc: 0.8564 - val_loss: 0.4471 - val_acc: 0.8000\n",
            "Epoch 50/100\n",
            "128/801 [===>..........................] - ETA: 0s - loss: 0.3342 - acc: 0.8750\n",
            "Epoch 00050: val_acc did not improve from 0.83333\n",
            "801/801 [==============================] - 0s 40us/sample - loss: 0.3489 - acc: 0.8514 - val_loss: 0.4477 - val_acc: 0.8111\n",
            "Epoch 51/100\n",
            "128/801 [===>..........................] - ETA: 0s - loss: 0.3767 - acc: 0.8203\n",
            "Epoch 00051: val_acc did not improve from 0.83333\n",
            "801/801 [==============================] - 0s 39us/sample - loss: 0.3480 - acc: 0.8464 - val_loss: 0.4534 - val_acc: 0.8111\n",
            "Epoch 52/100\n",
            "128/801 [===>..........................] - ETA: 0s - loss: 0.3448 - acc: 0.8516\n",
            "Epoch 00052: val_acc did not improve from 0.83333\n",
            "801/801 [==============================] - 0s 41us/sample - loss: 0.3461 - acc: 0.8502 - val_loss: 0.4467 - val_acc: 0.8000\n",
            "Epoch 53/100\n",
            "128/801 [===>..........................] - ETA: 0s - loss: 0.3740 - acc: 0.8438\n",
            "Epoch 00053: val_acc did not improve from 0.83333\n",
            "801/801 [==============================] - 0s 37us/sample - loss: 0.3442 - acc: 0.8539 - val_loss: 0.4488 - val_acc: 0.8000\n",
            "Epoch 54/100\n",
            "128/801 [===>..........................] - ETA: 0s - loss: 0.3920 - acc: 0.8203\n",
            "Epoch 00054: val_acc did not improve from 0.83333\n",
            "801/801 [==============================] - 0s 38us/sample - loss: 0.3442 - acc: 0.8502 - val_loss: 0.4594 - val_acc: 0.8000\n",
            "Epoch 55/100\n",
            "128/801 [===>..........................] - ETA: 0s - loss: 0.2604 - acc: 0.8516\n",
            "Epoch 00055: val_acc did not improve from 0.83333\n",
            "801/801 [==============================] - 0s 43us/sample - loss: 0.3431 - acc: 0.8514 - val_loss: 0.4605 - val_acc: 0.8111\n",
            "Epoch 56/100\n",
            "128/801 [===>..........................] - ETA: 0s - loss: 0.4339 - acc: 0.8125\n",
            "Epoch 00056: val_acc did not improve from 0.83333\n",
            "801/801 [==============================] - 0s 36us/sample - loss: 0.3427 - acc: 0.8539 - val_loss: 0.4570 - val_acc: 0.8111\n",
            "Epoch 57/100\n",
            "128/801 [===>..........................] - ETA: 0s - loss: 0.3439 - acc: 0.8672\n",
            "Epoch 00057: val_acc did not improve from 0.83333\n",
            "801/801 [==============================] - 0s 37us/sample - loss: 0.3409 - acc: 0.8539 - val_loss: 0.4591 - val_acc: 0.8111\n",
            "Epoch 58/100\n",
            "128/801 [===>..........................] - ETA: 0s - loss: 0.3538 - acc: 0.8438\n",
            "Epoch 00058: val_acc did not improve from 0.83333\n",
            "801/801 [==============================] - 0s 39us/sample - loss: 0.3415 - acc: 0.8539 - val_loss: 0.4600 - val_acc: 0.8222\n",
            "Epoch 59/100\n",
            "128/801 [===>..........................] - ETA: 0s - loss: 0.3296 - acc: 0.8672\n",
            "Epoch 00059: val_acc did not improve from 0.83333\n",
            "801/801 [==============================] - 0s 42us/sample - loss: 0.3397 - acc: 0.8602 - val_loss: 0.4517 - val_acc: 0.8000\n",
            "Epoch 60/100\n",
            "128/801 [===>..........................] - ETA: 0s - loss: 0.3517 - acc: 0.8516\n",
            "Epoch 00060: val_acc did not improve from 0.83333\n",
            "801/801 [==============================] - 0s 38us/sample - loss: 0.3393 - acc: 0.8589 - val_loss: 0.4490 - val_acc: 0.8000\n",
            "Epoch 61/100\n",
            "128/801 [===>..........................] - ETA: 0s - loss: 0.2899 - acc: 0.8984\n",
            "Epoch 00061: val_acc did not improve from 0.83333\n",
            "801/801 [==============================] - 0s 40us/sample - loss: 0.3382 - acc: 0.8589 - val_loss: 0.4490 - val_acc: 0.7889\n",
            "Epoch 62/100\n",
            "128/801 [===>..........................] - ETA: 0s - loss: 0.3307 - acc: 0.8828\n",
            "Epoch 00062: val_acc did not improve from 0.83333\n",
            "801/801 [==============================] - 0s 41us/sample - loss: 0.3396 - acc: 0.8627 - val_loss: 0.4438 - val_acc: 0.7889\n",
            "Epoch 63/100\n",
            "128/801 [===>..........................] - ETA: 0s - loss: 0.3350 - acc: 0.8828\n",
            "Epoch 00063: val_acc did not improve from 0.83333\n",
            "801/801 [==============================] - 0s 41us/sample - loss: 0.3367 - acc: 0.8639 - val_loss: 0.4495 - val_acc: 0.8111\n",
            "Epoch 64/100\n",
            "128/801 [===>..........................] - ETA: 0s - loss: 0.3315 - acc: 0.8594\n",
            "Epoch 00064: val_acc did not improve from 0.83333\n",
            "801/801 [==============================] - 0s 38us/sample - loss: 0.3372 - acc: 0.8539 - val_loss: 0.4515 - val_acc: 0.8111\n",
            "Epoch 65/100\n",
            "128/801 [===>..........................] - ETA: 0s - loss: 0.3603 - acc: 0.8359\n",
            "Epoch 00065: val_acc did not improve from 0.83333\n",
            "801/801 [==============================] - 0s 40us/sample - loss: 0.3353 - acc: 0.8577 - val_loss: 0.4524 - val_acc: 0.8000\n",
            "Epoch 66/100\n",
            "128/801 [===>..........................] - ETA: 0s - loss: 0.3527 - acc: 0.8672\n",
            "Epoch 00066: val_acc did not improve from 0.83333\n",
            "801/801 [==============================] - 0s 41us/sample - loss: 0.3356 - acc: 0.8627 - val_loss: 0.4628 - val_acc: 0.8222\n",
            "Epoch 67/100\n",
            "128/801 [===>..........................] - ETA: 0s - loss: 0.3668 - acc: 0.8281\n",
            "Epoch 00067: val_acc did not improve from 0.83333\n",
            "801/801 [==============================] - 0s 40us/sample - loss: 0.3337 - acc: 0.8614 - val_loss: 0.4695 - val_acc: 0.8111\n",
            "Epoch 68/100\n",
            "128/801 [===>..........................] - ETA: 0s - loss: 0.3619 - acc: 0.8438\n",
            "Epoch 00068: val_acc did not improve from 0.83333\n",
            "801/801 [==============================] - 0s 38us/sample - loss: 0.3339 - acc: 0.8589 - val_loss: 0.4611 - val_acc: 0.8000\n",
            "Epoch 69/100\n",
            "128/801 [===>..........................] - ETA: 0s - loss: 0.3157 - acc: 0.8750\n",
            "Epoch 00069: val_acc did not improve from 0.83333\n",
            "801/801 [==============================] - 0s 52us/sample - loss: 0.3323 - acc: 0.8639 - val_loss: 0.4519 - val_acc: 0.8000\n",
            "Epoch 70/100\n",
            "128/801 [===>..........................] - ETA: 0s - loss: 0.3597 - acc: 0.8438\n",
            "Epoch 00070: val_acc did not improve from 0.83333\n",
            "801/801 [==============================] - 0s 40us/sample - loss: 0.3321 - acc: 0.8552 - val_loss: 0.4518 - val_acc: 0.8000\n",
            "Epoch 71/100\n",
            "128/801 [===>..........................] - ETA: 0s - loss: 0.2888 - acc: 0.8828\n",
            "Epoch 00071: val_acc did not improve from 0.83333\n",
            "801/801 [==============================] - 0s 40us/sample - loss: 0.3316 - acc: 0.8602 - val_loss: 0.4463 - val_acc: 0.8000\n",
            "Epoch 72/100\n",
            "128/801 [===>..........................] - ETA: 0s - loss: 0.2467 - acc: 0.9141\n",
            "Epoch 00072: val_acc did not improve from 0.83333\n",
            "Restoring model weights from the end of the best epoch.\n",
            "801/801 [==============================] - 2s 2ms/sample - loss: 0.3299 - acc: 0.8589 - val_loss: 0.4449 - val_acc: 0.8222\n",
            "Epoch 00072: early stopping\n"
          ],
          "name": "stdout"
        }
      ]
    },
    {
      "cell_type": "code",
      "metadata": {
        "id": "kcV35eqRjIJr",
        "colab_type": "code",
        "colab": {}
      },
      "source": [
        "model.load_weights('kaggle-titanic.hdf5')"
      ],
      "execution_count": 0,
      "outputs": []
    },
    {
      "cell_type": "code",
      "metadata": {
        "id": "NCV2_n74NmBC",
        "colab_type": "code",
        "outputId": "c509d536-5c7b-4b8b-af61-94cae3c3fd33",
        "colab": {
          "base_uri": "https://localhost:8080/",
          "height": 573
        }
      },
      "source": [
        "# Training plots\n",
        "epochs = [i for i in range(1, len(history.history['loss'])+1)]\n",
        "\n",
        "plt.plot(epochs, history.history['loss'], color='blue', label=\"training_loss\")\n",
        "plt.plot(epochs, history.history['val_loss'], color='red', label=\"validation_loss\")\n",
        "plt.legend(loc='best')\n",
        "plt.title('loss')\n",
        "plt.xlabel('epoch')\n",
        "plt.show()\n",
        "\n",
        "plt.plot(epochs, history.history['acc'], color='blue', label=\"training_accuracy\")\n",
        "plt.plot(epochs, history.history['val_acc'], color='red',label=\"validation_accuracy\")\n",
        "plt.legend(loc='best')\n",
        "plt.title('accuracy')\n",
        "plt.xlabel('epoch')\n",
        "plt.show()"
      ],
      "execution_count": 403,
      "outputs": [
        {
          "output_type": "display_data",
          "data": {
            "image/png": "[encoded data removed]",
            "text/plain": [
              "<Figure size 432x288 with 1 Axes>"
            ]
          },
          "metadata": {
            "tags": []
          }
        },
        {
          "output_type": "display_data",
          "data": {
            "image/png": "[encoded data removed]",
            "text/plain": [
              "<Figure size 432x288 with 1 Axes>"
            ]
          },
          "metadata": {
            "tags": []
          }
        }
      ]
    },
    {
      "cell_type": "code",
      "metadata": {
        "id": "5lNElYr9ivPm",
        "colab_type": "code",
        "colab": {}
      },
      "source": [
        "y_pred = model.predict(x_test_scaled)\n",
        "y_final = (y_pred > 0.5).astype(int).reshape(df_test.shape[0])\n",
        "    \n",
        "output = pd.DataFrame({'PassengerId': df_test['PassengerId'], 'Survived': y_final})\n",
        "output.to_csv('submission.csv', index=False)"
      ],
      "execution_count": 0,
      "outputs": []
    },
    {
      "cell_type": "code",
      "metadata": {
        "id": "vRZOKgUbsiGM",
        "colab_type": "code",
        "colab": {
          "base_uri": "https://localhost:8080/",
          "height": 204
        },
        "outputId": "91a09a74-e66e-43da-d107-645e45100c6d"
      },
      "source": [
        "output.head()"
      ],
      "execution_count": 405,
      "outputs": [
        {
          "output_type": "execute_result",
          "data": {
            "text/html": [
              "<div>\n",
              "<style scoped>\n",
              "    .dataframe tbody tr th:only-of-type {\n",
              "        vertical-align: middle;\n",
              "    }\n",
              "\n",
              "    .dataframe tbody tr th {\n",
              "        vertical-align: top;\n",
              "    }\n",
              "\n",
              "    .dataframe thead th {\n",
              "        text-align: right;\n",
              "    }\n",
              "</style>\n",
              "<table border=\"1\" class=\"dataframe\">\n",
              "  <thead>\n",
              "    <tr style=\"text-align: right;\">\n",
              "      <th></th>\n",
              "      <th>PassengerId</th>\n",
              "      <th>Survived</th>\n",
              "    </tr>\n",
              "  </thead>\n",
              "  <tbody>\n",
              "    <tr>\n",
              "      <th>0</th>\n",
              "      <td>892</td>\n",
              "      <td>0</td>\n",
              "    </tr>\n",
              "    <tr>\n",
              "      <th>1</th>\n",
              "      <td>893</td>\n",
              "      <td>1</td>\n",
              "    </tr>\n",
              "    <tr>\n",
              "      <th>2</th>\n",
              "      <td>894</td>\n",
              "      <td>0</td>\n",
              "    </tr>\n",
              "    <tr>\n",
              "      <th>3</th>\n",
              "      <td>895</td>\n",
              "      <td>0</td>\n",
              "    </tr>\n",
              "    <tr>\n",
              "      <th>4</th>\n",
              "      <td>896</td>\n",
              "      <td>0</td>\n",
              "    </tr>\n",
              "  </tbody>\n",
              "</table>\n",
              "</div>"
            ],
            "text/plain": [
              "   PassengerId  Survived\n",
              "0          892         0\n",
              "1          893         1\n",
              "2          894         0\n",
              "3          895         0\n",
              "4          896         0"
            ]
          },
          "metadata": {
            "tags": []
          },
          "execution_count": 405
        }
      ]
    },
    {
      "cell_type": "code",
      "metadata": {
        "id": "410ki_vSmL4q",
        "colab_type": "code",
        "outputId": "5581ddc8-8a7c-45ab-93da-adc5b0ff393d",
        "colab": {
          "base_uri": "https://localhost:8080/",
          "height": 297
        }
      },
      "source": [
        "output.describe()"
      ],
      "execution_count": 406,
      "outputs": [
        {
          "output_type": "execute_result",
          "data": {
            "text/html": [
              "<div>\n",
              "<style scoped>\n",
              "    .dataframe tbody tr th:only-of-type {\n",
              "        vertical-align: middle;\n",
              "    }\n",
              "\n",
              "    .dataframe tbody tr th {\n",
              "        vertical-align: top;\n",
              "    }\n",
              "\n",
              "    .dataframe thead th {\n",
              "        text-align: right;\n",
              "    }\n",
              "</style>\n",
              "<table border=\"1\" class=\"dataframe\">\n",
              "  <thead>\n",
              "    <tr style=\"text-align: right;\">\n",
              "      <th></th>\n",
              "      <th>PassengerId</th>\n",
              "      <th>Survived</th>\n",
              "    </tr>\n",
              "  </thead>\n",
              "  <tbody>\n",
              "    <tr>\n",
              "      <th>count</th>\n",
              "      <td>418.000000</td>\n",
              "      <td>418.000000</td>\n",
              "    </tr>\n",
              "    <tr>\n",
              "      <th>mean</th>\n",
              "      <td>1100.500000</td>\n",
              "      <td>0.368421</td>\n",
              "    </tr>\n",
              "    <tr>\n",
              "      <th>std</th>\n",
              "      <td>120.810458</td>\n",
              "      <td>0.482954</td>\n",
              "    </tr>\n",
              "    <tr>\n",
              "      <th>min</th>\n",
              "      <td>892.000000</td>\n",
              "      <td>0.000000</td>\n",
              "    </tr>\n",
              "    <tr>\n",
              "      <th>25%</th>\n",
              "      <td>996.250000</td>\n",
              "      <td>0.000000</td>\n",
              "    </tr>\n",
              "    <tr>\n",
              "      <th>50%</th>\n",
              "      <td>1100.500000</td>\n",
              "      <td>0.000000</td>\n",
              "    </tr>\n",
              "    <tr>\n",
              "      <th>75%</th>\n",
              "      <td>1204.750000</td>\n",
              "      <td>1.000000</td>\n",
              "    </tr>\n",
              "    <tr>\n",
              "      <th>max</th>\n",
              "      <td>1309.000000</td>\n",
              "      <td>1.000000</td>\n",
              "    </tr>\n",
              "  </tbody>\n",
              "</table>\n",
              "</div>"
            ],
            "text/plain": [
              "       PassengerId    Survived\n",
              "count   418.000000  418.000000\n",
              "mean   1100.500000    0.368421\n",
              "std     120.810458    0.482954\n",
              "min     892.000000    0.000000\n",
              "25%     996.250000    0.000000\n",
              "50%    1100.500000    0.000000\n",
              "75%    1204.750000    1.000000\n",
              "max    1309.000000    1.000000"
            ]
          },
          "metadata": {
            "tags": []
          },
          "execution_count": 406
        }
      ]
    },
    {
      "cell_type": "code",
      "metadata": {
        "id": "V9F4bBCSmOqv",
        "colab_type": "code",
        "colab": {
          "base_uri": "https://localhost:8080/",
          "height": 51
        },
        "outputId": "fe46f311-bf52-48a0-ffa8-6420f1933ea6"
      },
      "source": [
        "!kaggle competitions submit -c titanic -f submission.csv -m \"sub #4\""
      ],
      "execution_count": 407,
      "outputs": [
        {
          "output_type": "stream",
          "text": [
            "100% 2.77k/2.77k [00:09<00:00, 284B/s]\n",
            "Successfully submitted to Titanic: Machine Learning from Disaster"
          ],
          "name": "stdout"
        }
      ]
    },
    {
      "cell_type": "code",
      "metadata": {
        "id": "_K8wnvJCvDr5",
        "colab_type": "code",
        "colab": {}
      },
      "source": [
        ""
      ],
      "execution_count": 0,
      "outputs": []
    }
  ]
}