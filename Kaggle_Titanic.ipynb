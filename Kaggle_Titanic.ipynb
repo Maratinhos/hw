{
  "nbformat": 4,
  "nbformat_minor": 0,
  "metadata": {
    "colab": {
      "name": "Kaggle Titanic.ipynb",
      "version": "0.3.2",
      "provenance": [],
      "collapsed_sections": [],
      "include_colab_link": true
    },
    "kernelspec": {
      "name": "python3",
      "display_name": "Python 3"
    },
    "accelerator": "GPU"
  },
  "cells": [
    {
      "cell_type": "markdown",
      "metadata": {
        "id": "view-in-github",
        "colab_type": "text"
      },
      "source": [
        "<a href=\"https://colab.research.google.com/github/Maratinhos/hw/blob/master/Kaggle_Titanic.ipynb\" target=\"_parent\"><img src=\"https://colab.research.google.com/assets/colab-badge.svg\" alt=\"Open In Colab\"/></a>"
      ]
    },
    {
      "cell_type": "code",
      "metadata": {
        "id": "DAg1NfO6w0Hy",
        "colab_type": "code",
        "colab": {}
      },
      "source": [
        "from tensorflow.keras.models import Sequential\n",
        "from tensorflow.keras.layers import Dense, Conv2D, MaxPooling2D, Dropout, Flatten, BatchNormalization\n",
        "from tensorflow.keras import utils\n",
        "from tensorflow.keras.preprocessing import image\n",
        "from tensorflow.python.keras.preprocessing.image import ImageDataGenerator\n",
        "from tensorflow.keras.callbacks import ReduceLROnPlateau, ModelCheckpoint, EarlyStopping\n",
        "import tensorflow as tf\n",
        "from sklearn.model_selection import train_test_split\n",
        "from sklearn.preprocessing import StandardScaler\n",
        "import numpy as np\n",
        "import matplotlib.pyplot as plt\n",
        "from PIL import Image\n",
        "from google.colab import files\n",
        "import pandas as pd\n",
        "%matplotlib inline"
      ],
      "execution_count": 0,
      "outputs": []
    },
    {
      "cell_type": "code",
      "metadata": {
        "id": "HoCxiBqgxDoL",
        "colab_type": "code",
        "outputId": "31244c62-4afa-4eca-c2da-0657c0c2d9e4",
        "colab": {
          "resources": {
            "http://localhost:8080/nbextensions/google.colab/files.js": {
              "data": "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",
              "ok": true,
              "headers": [
                [
                  "content-type",
                  "application/javascript"
                ]
              ],
              "status": 200,
              "status_text": ""
            }
          },
          "base_uri": "https://localhost:8080/",
          "height": 74
        }
      },
      "source": [
        "file = files.upload()"
      ],
      "execution_count": 2,
      "outputs": [
        {
          "output_type": "display_data",
          "data": {
            "text/html": [
              "\n",
              "     <input type=\"file\" id=\"files-f219ee54-3e64-49d9-a575-3b8ff0d9f76d\" name=\"files[]\" multiple disabled />\n",
              "     <output id=\"result-f219ee54-3e64-49d9-a575-3b8ff0d9f76d\">\n",
              "      Upload widget is only available when the cell has been executed in the\n",
              "      current browser session. Please rerun this cell to enable.\n",
              "      </output>\n",
              "      <script src=\"/nbextensions/google.colab/files.js\"></script> "
            ],
            "text/plain": [
              "<IPython.core.display.HTML object>"
            ]
          },
          "metadata": {
            "tags": []
          }
        },
        {
          "output_type": "stream",
          "text": [
            "Saving kaggle.json to kaggle.json\n"
          ],
          "name": "stdout"
        }
      ]
    },
    {
      "cell_type": "code",
      "metadata": {
        "id": "YrSIN64cxJUn",
        "colab_type": "code",
        "colab": {}
      },
      "source": [
        "!mkdir ~/.kaggle\n",
        "!mv kaggle.json ~/.kaggle\n",
        "!chmod 600 /root/.kaggle/kaggle.json\n",
        "!kaggle competitions download -c titanic"
      ],
      "execution_count": 0,
      "outputs": []
    },
    {
      "cell_type": "code",
      "metadata": {
        "id": "wyQdM9t0xQJ6",
        "colab_type": "code",
        "colab": {}
      },
      "source": [
        "!kaggle competitions download -c titanic"
      ],
      "execution_count": 0,
      "outputs": []
    },
    {
      "cell_type": "code",
      "metadata": {
        "id": "LIVtWtigxdex",
        "colab_type": "code",
        "colab": {}
      },
      "source": [
        "df = pd.read_csv('train.csv')\n",
        "df_test = pd.read_csv('test.csv')"
      ],
      "execution_count": 0,
      "outputs": []
    },
    {
      "cell_type": "code",
      "metadata": {
        "id": "o4d4PtdvyHfo",
        "colab_type": "code",
        "outputId": "ed81e1d7-2649-4950-a2ae-0062ed7e4018",
        "colab": {
          "base_uri": "https://localhost:8080/",
          "height": 204
        }
      },
      "source": [
        "df.head()"
      ],
      "execution_count": 12,
      "outputs": [
        {
          "output_type": "execute_result",
          "data": {
            "text/html": [
              "<div>\n",
              "<style scoped>\n",
              "    .dataframe tbody tr th:only-of-type {\n",
              "        vertical-align: middle;\n",
              "    }\n",
              "\n",
              "    .dataframe tbody tr th {\n",
              "        vertical-align: top;\n",
              "    }\n",
              "\n",
              "    .dataframe thead th {\n",
              "        text-align: right;\n",
              "    }\n",
              "</style>\n",
              "<table border=\"1\" class=\"dataframe\">\n",
              "  <thead>\n",
              "    <tr style=\"text-align: right;\">\n",
              "      <th></th>\n",
              "      <th>PassengerId</th>\n",
              "      <th>Survived</th>\n",
              "      <th>Pclass</th>\n",
              "      <th>Name</th>\n",
              "      <th>Sex</th>\n",
              "      <th>Age</th>\n",
              "      <th>SibSp</th>\n",
              "      <th>Parch</th>\n",
              "      <th>Ticket</th>\n",
              "      <th>Fare</th>\n",
              "      <th>Cabin</th>\n",
              "      <th>Embarked</th>\n",
              "      <th>Cabin2</th>\n",
              "      <th>rod</th>\n",
              "    </tr>\n",
              "  </thead>\n",
              "  <tbody>\n",
              "    <tr>\n",
              "      <th>0</th>\n",
              "      <td>1</td>\n",
              "      <td>0</td>\n",
              "      <td>3</td>\n",
              "      <td>Braund, Mr. Owen Harris</td>\n",
              "      <td>male</td>\n",
              "      <td>22.0</td>\n",
              "      <td>1</td>\n",
              "      <td>0</td>\n",
              "      <td>A/5 21171</td>\n",
              "      <td>7.2500</td>\n",
              "      <td>NaN</td>\n",
              "      <td>S</td>\n",
              "      <td>1</td>\n",
              "      <td>1</td>\n",
              "    </tr>\n",
              "    <tr>\n",
              "      <th>1</th>\n",
              "      <td>2</td>\n",
              "      <td>1</td>\n",
              "      <td>1</td>\n",
              "      <td>Cumings, Mrs. John Bradley (Florence Briggs Th...</td>\n",
              "      <td>female</td>\n",
              "      <td>38.0</td>\n",
              "      <td>1</td>\n",
              "      <td>0</td>\n",
              "      <td>PC 17599</td>\n",
              "      <td>71.2833</td>\n",
              "      <td>C85</td>\n",
              "      <td>C</td>\n",
              "      <td>0</td>\n",
              "      <td>1</td>\n",
              "    </tr>\n",
              "    <tr>\n",
              "      <th>2</th>\n",
              "      <td>3</td>\n",
              "      <td>1</td>\n",
              "      <td>3</td>\n",
              "      <td>Heikkinen, Miss. Laina</td>\n",
              "      <td>female</td>\n",
              "      <td>26.0</td>\n",
              "      <td>0</td>\n",
              "      <td>0</td>\n",
              "      <td>STON/O2. 3101282</td>\n",
              "      <td>7.9250</td>\n",
              "      <td>NaN</td>\n",
              "      <td>S</td>\n",
              "      <td>1</td>\n",
              "      <td>0</td>\n",
              "    </tr>\n",
              "    <tr>\n",
              "      <th>3</th>\n",
              "      <td>4</td>\n",
              "      <td>1</td>\n",
              "      <td>1</td>\n",
              "      <td>Futrelle, Mrs. Jacques Heath (Lily May Peel)</td>\n",
              "      <td>female</td>\n",
              "      <td>35.0</td>\n",
              "      <td>1</td>\n",
              "      <td>0</td>\n",
              "      <td>113803</td>\n",
              "      <td>53.1000</td>\n",
              "      <td>C123</td>\n",
              "      <td>S</td>\n",
              "      <td>0</td>\n",
              "      <td>1</td>\n",
              "    </tr>\n",
              "    <tr>\n",
              "      <th>4</th>\n",
              "      <td>5</td>\n",
              "      <td>0</td>\n",
              "      <td>3</td>\n",
              "      <td>Allen, Mr. William Henry</td>\n",
              "      <td>male</td>\n",
              "      <td>35.0</td>\n",
              "      <td>0</td>\n",
              "      <td>0</td>\n",
              "      <td>373450</td>\n",
              "      <td>8.0500</td>\n",
              "      <td>NaN</td>\n",
              "      <td>S</td>\n",
              "      <td>1</td>\n",
              "      <td>0</td>\n",
              "    </tr>\n",
              "  </tbody>\n",
              "</table>\n",
              "</div>"
            ],
            "text/plain": [
              "   PassengerId  Survived  Pclass  ... Embarked Cabin2  rod\n",
              "0            1         0       3  ...        S      1    1\n",
              "1            2         1       1  ...        C      0    1\n",
              "2            3         1       3  ...        S      1    0\n",
              "3            4         1       1  ...        S      0    1\n",
              "4            5         0       3  ...        S      1    0\n",
              "\n",
              "[5 rows x 14 columns]"
            ]
          },
          "metadata": {
            "tags": []
          },
          "execution_count": 12
        }
      ]
    },
    {
      "cell_type": "code",
      "metadata": {
        "id": "1HXfKS1X2Fpr",
        "colab_type": "code",
        "colab": {}
      },
      "source": [
        "df['Sex'] = df['Sex'].replace('male', 0)\n",
        "df['Sex'] = df['Sex'].replace('female', 1)\n",
        "df['Embarked'] = df['Embarked'].replace('S', 0)\n",
        "df['Embarked'] = df['Embarked'].replace('C', 1)\n",
        "df['Embarked'] = df['Embarked'].replace('Q', 2)\n",
        "df['Cabin2'] = pd.isnull(df['Cabin'])\n",
        "df['Cabin2'] = df['Cabin2'].astype(int)\n",
        "df['rod'] = df['SibSp'] + df['Parch']\n",
        "\n",
        "df_test['Sex'] = df_test['Sex'].replace('male', 0)\n",
        "df_test['Sex'] = df_test['Sex'].replace('female', 1)\n",
        "df_test['Embarked'] = df_test['Embarked'].replace('S', 0)\n",
        "df_test['Embarked'] = df_test['Embarked'].replace('C', 1)\n",
        "df_test['Embarked'] = df_test['Embarked'].replace('Q', 2)\n",
        "df_test['Cabin2'] = pd.isnull(df_test['Cabin'])\n",
        "df_test['Cabin2'] = df_test['Cabin2'].astype(int)\n",
        "df_test['rod'] = df_test['SibSp'] + df_test['Parch']"
      ],
      "execution_count": 0,
      "outputs": []
    },
    {
      "cell_type": "code",
      "metadata": {
        "id": "s3pfXI678m9M",
        "colab_type": "code",
        "colab": {}
      },
      "source": [
        "df2 = df[['Pclass', 'Sex', 'Age', 'rod', 'Fare', 'Embarked', 'Cabin2', 'Survived']]"
      ],
      "execution_count": 0,
      "outputs": []
    },
    {
      "cell_type": "code",
      "metadata": {
        "id": "n6rMzvPi9egK",
        "colab_type": "code",
        "colab": {}
      },
      "source": [
        "df3 = df2.dropna()"
      ],
      "execution_count": 0,
      "outputs": []
    },
    {
      "cell_type": "code",
      "metadata": {
        "id": "zbNE5-0LGQGr",
        "colab_type": "code",
        "colab": {}
      },
      "source": [
        "x = df3[['Pclass', 'Sex', 'Age', 'rod', 'Fare', 'Embarked', 'Cabin2']]\n",
        "y = df3['Survived']\n",
        "\n",
        "x_test = df_test[['Pclass', 'Sex', 'Age', 'rod', 'Fare', 'Embarked', 'Cabin2']]"
      ],
      "execution_count": 0,
      "outputs": []
    },
    {
      "cell_type": "code",
      "metadata": {
        "id": "Clb3M_PnfMzl",
        "colab_type": "code",
        "colab": {}
      },
      "source": [
        "x = x.fillna(x.mean())\n",
        "\n",
        "x_test = x_test.fillna(x_test.mean())"
      ],
      "execution_count": 0,
      "outputs": []
    },
    {
      "cell_type": "code",
      "metadata": {
        "id": "5V7Y7_sNHhSk",
        "colab_type": "code",
        "colab": {}
      },
      "source": [
        "x_train, x_val, y_train, y_val = train_test_split(x,y,test_size=0.1, shuffle=True)"
      ],
      "execution_count": 0,
      "outputs": []
    },
    {
      "cell_type": "code",
      "metadata": {
        "id": "imdIytGqI08o",
        "colab_type": "code",
        "colab": {}
      },
      "source": [
        "scaler = StandardScaler()\n",
        "x_train_scaled = scaler.fit_transform(x_train)\n",
        "x_val_scaled = scaler.fit_transform(x_val)\n",
        "\n",
        "x_test_scaled = scaler.fit_transform(x_test)"
      ],
      "execution_count": 0,
      "outputs": []
    },
    {
      "cell_type": "code",
      "metadata": {
        "id": "fw9tsUN9Os8q",
        "colab_type": "code",
        "colab": {}
      },
      "source": [
        "x_train_scaled = x_train_scaled.astype(np.float32)\n",
        "x_val_scaled = x_val_scaled.astype(np.float32)\n",
        "y_train = y_train.astype(np.float32)\n",
        "y_val = y_val.astype(np.float32)\n",
        "\n",
        "x_test_scaled = x_test_scaled.astype(np.float32)"
      ],
      "execution_count": 0,
      "outputs": []
    },
    {
      "cell_type": "code",
      "metadata": {
        "id": "p-6u3a1qUcZP",
        "colab_type": "code",
        "colab": {}
      },
      "source": [
        "x_train_scaled = np.array(x_train_scaled)\n",
        "x_val_scaled = np.array(x_val_scaled)\n",
        "y_train = np.array(y_train)\n",
        "y_val = np.array(y_val)\n",
        "\n",
        "x_test_scaled = np.array(x_test_scaled)"
      ],
      "execution_count": 0,
      "outputs": []
    },
    {
      "cell_type": "code",
      "metadata": {
        "id": "hwGnacrkL4Al",
        "colab_type": "code",
        "colab": {}
      },
      "source": [
        "model = Sequential([\n",
        "    Dense(16, activation='relu', input_shape=(7,)),\n",
        "    Dense(8, activation='relu'),\n",
        "    Dense(4, activation='relu'),\n",
        "    Dropout(0.25),\n",
        "    Dense(2, activation='relu'),\n",
        "    #BatchNormalization(),\n",
        "    #Dropout(0.2),\n",
        "    #Dense(1024, activation='relu'),\n",
        "    #BatchNormalization(),\n",
        "    #Dropout(0.01),\n",
        "    #Dense(1024, activation='relu'),\n",
        "    #BatchNormalization(),\n",
        "    #Dropout(0.01),\n",
        "    #Dense(512, activation='relu'),\n",
        "    #BatchNormalization(),\n",
        "    #Dropout(0.01),\n",
        "    Dense(1, activation='sigmoid')\n",
        "])\n",
        "\n",
        "model.compile(optimizer = 'adam', \n",
        "              loss='binary_crossentropy', \n",
        "              metrics = ['accuracy'])\n",
        "\n",
        "checkpoint = ModelCheckpoint('kaggle-titanic.hdf5', monitor = 'val_acc', save_best_only = True, verbose = 1, mode = 'max')\n",
        "learning_rate_reduction = ReduceLROnPlateau(monitor = 'val_acc', patience = 3, verbose = 1, factor = 0.3, min_lr = 0.1)\n",
        "early_stopping = EarlyStopping(monitor = 'val_loss', patience = 10, verbose = 1, restore_best_weights = True)"
      ],
      "execution_count": 0,
      "outputs": []
    },
    {
      "cell_type": "code",
      "metadata": {
        "id": "4thyQ3gvNaJ7",
        "colab_type": "code",
        "outputId": "7d79948b-453e-4252-c0cc-9a7d1f5279c7",
        "colab": {
          "base_uri": "https://localhost:8080/",
          "height": 1000
        }
      },
      "source": [
        "history = model.fit(x_train_scaled, \n",
        "                    y_train, \n",
        "                    batch_size = 128,\n",
        "                    validation_data = (x_val_scaled, y_val), \n",
        "                    epochs = 100,\n",
        "                    verbose = 1\n",
        "                    #callbacks = [checkpoint, learning_rate_reduction, early_stopping]\n",
        "                   )"
      ],
      "execution_count": 131,
      "outputs": [
        {
          "output_type": "stream",
          "text": [
            "Train on 640 samples, validate on 72 samples\n",
            "Epoch 1/100\n",
            "640/640 [==============================] - 2s 3ms/sample - loss: 0.6966 - acc: 0.4016 - val_loss: 0.6955 - val_acc: 0.3056\n",
            "Epoch 2/100\n",
            "640/640 [==============================] - 0s 58us/sample - loss: 0.6949 - acc: 0.4266 - val_loss: 0.6938 - val_acc: 0.3889\n",
            "Epoch 3/100\n",
            "640/640 [==============================] - 0s 51us/sample - loss: 0.6932 - acc: 0.4797 - val_loss: 0.6924 - val_acc: 0.6667\n",
            "Epoch 4/100\n",
            "640/640 [==============================] - 0s 54us/sample - loss: 0.6917 - acc: 0.5672 - val_loss: 0.6912 - val_acc: 0.6250\n",
            "Epoch 5/100\n",
            "640/640 [==============================] - 0s 58us/sample - loss: 0.6904 - acc: 0.6156 - val_loss: 0.6903 - val_acc: 0.6111\n",
            "Epoch 6/100\n",
            "640/640 [==============================] - 0s 53us/sample - loss: 0.6887 - acc: 0.6609 - val_loss: 0.6896 - val_acc: 0.6111\n",
            "Epoch 7/100\n",
            "640/640 [==============================] - 0s 61us/sample - loss: 0.6883 - acc: 0.6484 - val_loss: 0.6888 - val_acc: 0.6250\n",
            "Epoch 8/100\n",
            "640/640 [==============================] - 0s 56us/sample - loss: 0.6866 - acc: 0.6609 - val_loss: 0.6876 - val_acc: 0.6250\n",
            "Epoch 9/100\n",
            "640/640 [==============================] - 0s 49us/sample - loss: 0.6860 - acc: 0.6656 - val_loss: 0.6861 - val_acc: 0.6389\n",
            "Epoch 10/100\n",
            "640/640 [==============================] - 0s 61us/sample - loss: 0.6848 - acc: 0.6719 - val_loss: 0.6842 - val_acc: 0.6528\n",
            "Epoch 11/100\n",
            "640/640 [==============================] - 0s 65us/sample - loss: 0.6837 - acc: 0.6703 - val_loss: 0.6820 - val_acc: 0.7222\n",
            "Epoch 12/100\n",
            "640/640 [==============================] - 0s 48us/sample - loss: 0.6817 - acc: 0.6891 - val_loss: 0.6793 - val_acc: 0.7222\n",
            "Epoch 13/100\n",
            "640/640 [==============================] - 0s 54us/sample - loss: 0.6808 - acc: 0.6797 - val_loss: 0.6762 - val_acc: 0.7361\n",
            "Epoch 14/100\n",
            "640/640 [==============================] - 0s 50us/sample - loss: 0.6785 - acc: 0.6906 - val_loss: 0.6728 - val_acc: 0.7500\n",
            "Epoch 15/100\n",
            "640/640 [==============================] - 0s 65us/sample - loss: 0.6747 - acc: 0.7125 - val_loss: 0.6692 - val_acc: 0.7917\n",
            "Epoch 16/100\n",
            "640/640 [==============================] - 0s 58us/sample - loss: 0.6732 - acc: 0.7125 - val_loss: 0.6648 - val_acc: 0.7917\n",
            "Epoch 17/100\n",
            "640/640 [==============================] - 0s 56us/sample - loss: 0.6694 - acc: 0.7297 - val_loss: 0.6600 - val_acc: 0.8056\n",
            "Epoch 18/100\n",
            "640/640 [==============================] - 0s 59us/sample - loss: 0.6654 - acc: 0.7312 - val_loss: 0.6549 - val_acc: 0.8194\n",
            "Epoch 19/100\n",
            "640/640 [==============================] - 0s 57us/sample - loss: 0.6670 - acc: 0.7000 - val_loss: 0.6497 - val_acc: 0.8194\n",
            "Epoch 20/100\n",
            "640/640 [==============================] - 0s 55us/sample - loss: 0.6591 - acc: 0.7266 - val_loss: 0.6443 - val_acc: 0.8333\n",
            "Epoch 21/100\n",
            "640/640 [==============================] - 0s 55us/sample - loss: 0.6591 - acc: 0.7109 - val_loss: 0.6383 - val_acc: 0.8472\n",
            "Epoch 22/100\n",
            "640/640 [==============================] - 0s 57us/sample - loss: 0.6556 - acc: 0.7188 - val_loss: 0.6320 - val_acc: 0.8472\n",
            "Epoch 23/100\n",
            "640/640 [==============================] - 0s 53us/sample - loss: 0.6520 - acc: 0.7297 - val_loss: 0.6253 - val_acc: 0.8472\n",
            "Epoch 24/100\n",
            "640/640 [==============================] - 0s 58us/sample - loss: 0.6466 - acc: 0.7203 - val_loss: 0.6181 - val_acc: 0.8472\n",
            "Epoch 25/100\n",
            "640/640 [==============================] - 0s 64us/sample - loss: 0.6458 - acc: 0.7094 - val_loss: 0.6116 - val_acc: 0.8472\n",
            "Epoch 26/100\n",
            "640/640 [==============================] - 0s 63us/sample - loss: 0.6352 - acc: 0.7344 - val_loss: 0.6044 - val_acc: 0.8611\n",
            "Epoch 27/100\n",
            "640/640 [==============================] - 0s 55us/sample - loss: 0.6344 - acc: 0.7391 - val_loss: 0.5970 - val_acc: 0.8472\n",
            "Epoch 28/100\n",
            "640/640 [==============================] - 0s 58us/sample - loss: 0.6384 - acc: 0.7109 - val_loss: 0.5896 - val_acc: 0.8472\n",
            "Epoch 29/100\n",
            "640/640 [==============================] - 0s 57us/sample - loss: 0.6323 - acc: 0.7250 - val_loss: 0.5835 - val_acc: 0.8472\n",
            "Epoch 30/100\n",
            "640/640 [==============================] - 0s 63us/sample - loss: 0.6185 - acc: 0.7500 - val_loss: 0.5767 - val_acc: 0.8333\n",
            "Epoch 31/100\n",
            "640/640 [==============================] - 0s 63us/sample - loss: 0.6182 - acc: 0.7437 - val_loss: 0.5704 - val_acc: 0.8611\n",
            "Epoch 32/100\n",
            "640/640 [==============================] - 0s 61us/sample - loss: 0.6122 - acc: 0.7406 - val_loss: 0.5636 - val_acc: 0.8472\n",
            "Epoch 33/100\n",
            "640/640 [==============================] - 0s 58us/sample - loss: 0.6139 - acc: 0.7406 - val_loss: 0.5573 - val_acc: 0.8472\n",
            "Epoch 34/100\n",
            "640/640 [==============================] - 0s 64us/sample - loss: 0.6096 - acc: 0.7406 - val_loss: 0.5522 - val_acc: 0.8472\n",
            "Epoch 35/100\n",
            "640/640 [==============================] - 0s 61us/sample - loss: 0.6024 - acc: 0.7563 - val_loss: 0.5461 - val_acc: 0.8472\n",
            "Epoch 36/100\n",
            "640/640 [==============================] - 0s 60us/sample - loss: 0.6131 - acc: 0.7391 - val_loss: 0.5409 - val_acc: 0.8472\n",
            "Epoch 37/100\n",
            "640/640 [==============================] - 0s 55us/sample - loss: 0.5962 - acc: 0.7625 - val_loss: 0.5363 - val_acc: 0.8611\n",
            "Epoch 38/100\n",
            "640/640 [==============================] - 0s 60us/sample - loss: 0.6056 - acc: 0.7453 - val_loss: 0.5314 - val_acc: 0.8611\n",
            "Epoch 39/100\n",
            "640/640 [==============================] - 0s 55us/sample - loss: 0.6049 - acc: 0.7328 - val_loss: 0.5279 - val_acc: 0.8750\n",
            "Epoch 40/100\n",
            "640/640 [==============================] - 0s 57us/sample - loss: 0.6006 - acc: 0.7500 - val_loss: 0.5250 - val_acc: 0.8750\n",
            "Epoch 41/100\n",
            "640/640 [==============================] - 0s 57us/sample - loss: 0.6078 - acc: 0.7344 - val_loss: 0.5226 - val_acc: 0.8750\n",
            "Epoch 42/100\n",
            "640/640 [==============================] - 0s 54us/sample - loss: 0.6005 - acc: 0.7516 - val_loss: 0.5206 - val_acc: 0.8889\n",
            "Epoch 43/100\n",
            "640/640 [==============================] - 0s 56us/sample - loss: 0.5934 - acc: 0.7531 - val_loss: 0.5173 - val_acc: 0.8889\n",
            "Epoch 44/100\n",
            "640/640 [==============================] - 0s 57us/sample - loss: 0.5973 - acc: 0.7500 - val_loss: 0.5148 - val_acc: 0.8889\n",
            "Epoch 45/100\n",
            "640/640 [==============================] - 0s 49us/sample - loss: 0.5931 - acc: 0.7500 - val_loss: 0.5122 - val_acc: 0.8889\n",
            "Epoch 46/100\n",
            "640/640 [==============================] - 0s 52us/sample - loss: 0.5826 - acc: 0.7734 - val_loss: 0.5087 - val_acc: 0.8889\n",
            "Epoch 47/100\n",
            "640/640 [==============================] - 0s 53us/sample - loss: 0.5857 - acc: 0.7609 - val_loss: 0.5059 - val_acc: 0.8889\n",
            "Epoch 48/100\n",
            "640/640 [==============================] - 0s 49us/sample - loss: 0.5857 - acc: 0.7625 - val_loss: 0.5026 - val_acc: 0.8889\n",
            "Epoch 49/100\n",
            "640/640 [==============================] - 0s 55us/sample - loss: 0.5886 - acc: 0.7516 - val_loss: 0.5006 - val_acc: 0.8889\n",
            "Epoch 50/100\n",
            "640/640 [==============================] - 0s 52us/sample - loss: 0.5861 - acc: 0.7563 - val_loss: 0.5001 - val_acc: 0.8889\n",
            "Epoch 51/100\n",
            "640/640 [==============================] - 0s 51us/sample - loss: 0.5755 - acc: 0.7703 - val_loss: 0.4979 - val_acc: 0.8750\n",
            "Epoch 52/100\n",
            "640/640 [==============================] - 0s 52us/sample - loss: 0.5794 - acc: 0.7719 - val_loss: 0.4941 - val_acc: 0.8750\n",
            "Epoch 53/100\n",
            "640/640 [==============================] - 0s 51us/sample - loss: 0.5815 - acc: 0.7594 - val_loss: 0.4916 - val_acc: 0.8750\n",
            "Epoch 54/100\n",
            "640/640 [==============================] - 0s 49us/sample - loss: 0.5780 - acc: 0.7609 - val_loss: 0.4899 - val_acc: 0.8750\n",
            "Epoch 55/100\n",
            "640/640 [==============================] - 0s 46us/sample - loss: 0.5996 - acc: 0.7297 - val_loss: 0.4895 - val_acc: 0.8750\n",
            "Epoch 56/100\n",
            "640/640 [==============================] - 0s 48us/sample - loss: 0.5794 - acc: 0.7625 - val_loss: 0.4889 - val_acc: 0.8750\n",
            "Epoch 57/100\n",
            "640/640 [==============================] - 0s 48us/sample - loss: 0.5788 - acc: 0.7594 - val_loss: 0.4873 - val_acc: 0.8750\n",
            "Epoch 58/100\n",
            "640/640 [==============================] - 0s 51us/sample - loss: 0.5678 - acc: 0.7672 - val_loss: 0.4854 - val_acc: 0.8750\n",
            "Epoch 59/100\n",
            "640/640 [==============================] - 0s 48us/sample - loss: 0.5863 - acc: 0.7516 - val_loss: 0.4824 - val_acc: 0.8750\n",
            "Epoch 60/100\n",
            "640/640 [==============================] - 0s 64us/sample - loss: 0.5918 - acc: 0.7328 - val_loss: 0.4821 - val_acc: 0.8889\n",
            "Epoch 61/100\n",
            "640/640 [==============================] - 0s 57us/sample - loss: 0.5719 - acc: 0.7578 - val_loss: 0.4805 - val_acc: 0.8889\n",
            "Epoch 62/100\n",
            "640/640 [==============================] - 0s 59us/sample - loss: 0.5768 - acc: 0.7469 - val_loss: 0.4790 - val_acc: 0.8750\n",
            "Epoch 63/100\n",
            "640/640 [==============================] - 0s 45us/sample - loss: 0.5764 - acc: 0.7609 - val_loss: 0.4777 - val_acc: 0.8750\n",
            "Epoch 64/100\n",
            "640/640 [==============================] - 0s 47us/sample - loss: 0.5663 - acc: 0.7625 - val_loss: 0.4764 - val_acc: 0.9028\n",
            "Epoch 65/100\n",
            "640/640 [==============================] - 0s 50us/sample - loss: 0.5773 - acc: 0.7391 - val_loss: 0.4752 - val_acc: 0.8889\n",
            "Epoch 66/100\n",
            "640/640 [==============================] - 0s 50us/sample - loss: 0.5693 - acc: 0.7516 - val_loss: 0.4731 - val_acc: 0.9028\n",
            "Epoch 67/100\n",
            "640/640 [==============================] - 0s 48us/sample - loss: 0.5626 - acc: 0.7719 - val_loss: 0.4720 - val_acc: 0.9028\n",
            "Epoch 68/100\n",
            "640/640 [==============================] - 0s 48us/sample - loss: 0.5655 - acc: 0.7672 - val_loss: 0.4688 - val_acc: 0.9028\n",
            "Epoch 69/100\n",
            "640/640 [==============================] - 0s 49us/sample - loss: 0.5650 - acc: 0.7656 - val_loss: 0.4667 - val_acc: 0.9028\n",
            "Epoch 70/100\n",
            "640/640 [==============================] - 0s 54us/sample - loss: 0.5721 - acc: 0.7594 - val_loss: 0.4647 - val_acc: 0.9028\n",
            "Epoch 71/100\n",
            "640/640 [==============================] - 0s 54us/sample - loss: 0.5655 - acc: 0.7578 - val_loss: 0.4638 - val_acc: 0.9028\n",
            "Epoch 72/100\n",
            "640/640 [==============================] - 0s 44us/sample - loss: 0.5609 - acc: 0.7672 - val_loss: 0.4640 - val_acc: 0.8889\n",
            "Epoch 73/100\n",
            "640/640 [==============================] - 0s 53us/sample - loss: 0.5655 - acc: 0.7656 - val_loss: 0.4646 - val_acc: 0.8889\n",
            "Epoch 74/100\n",
            "640/640 [==============================] - 0s 52us/sample - loss: 0.5491 - acc: 0.7828 - val_loss: 0.4616 - val_acc: 0.8889\n",
            "Epoch 75/100\n",
            "640/640 [==============================] - 0s 52us/sample - loss: 0.5589 - acc: 0.7719 - val_loss: 0.4589 - val_acc: 0.8889\n",
            "Epoch 76/100\n",
            "640/640 [==============================] - 0s 48us/sample - loss: 0.5498 - acc: 0.7797 - val_loss: 0.4574 - val_acc: 0.8889\n",
            "Epoch 77/100\n",
            "640/640 [==============================] - 0s 59us/sample - loss: 0.5645 - acc: 0.7594 - val_loss: 0.4553 - val_acc: 0.8889\n",
            "Epoch 78/100\n",
            "640/640 [==============================] - 0s 69us/sample - loss: 0.5568 - acc: 0.7625 - val_loss: 0.4553 - val_acc: 0.8889\n",
            "Epoch 79/100\n",
            "640/640 [==============================] - 0s 46us/sample - loss: 0.5625 - acc: 0.7625 - val_loss: 0.4550 - val_acc: 0.8889\n",
            "Epoch 80/100\n",
            "640/640 [==============================] - 0s 52us/sample - loss: 0.5648 - acc: 0.7594 - val_loss: 0.4552 - val_acc: 0.8889\n",
            "Epoch 81/100\n",
            "640/640 [==============================] - 0s 44us/sample - loss: 0.5449 - acc: 0.7844 - val_loss: 0.4539 - val_acc: 0.8889\n",
            "Epoch 82/100\n",
            "640/640 [==============================] - 0s 49us/sample - loss: 0.5458 - acc: 0.7766 - val_loss: 0.4513 - val_acc: 0.8889\n",
            "Epoch 83/100\n",
            "640/640 [==============================] - 0s 54us/sample - loss: 0.5526 - acc: 0.7797 - val_loss: 0.4502 - val_acc: 0.8889\n",
            "Epoch 84/100\n",
            "640/640 [==============================] - 0s 50us/sample - loss: 0.5531 - acc: 0.7641 - val_loss: 0.4478 - val_acc: 0.8889\n",
            "Epoch 85/100\n",
            "640/640 [==============================] - 0s 54us/sample - loss: 0.5455 - acc: 0.7828 - val_loss: 0.4467 - val_acc: 0.8889\n",
            "Epoch 86/100\n",
            "640/640 [==============================] - 0s 65us/sample - loss: 0.5449 - acc: 0.7781 - val_loss: 0.4453 - val_acc: 0.8889\n",
            "Epoch 87/100\n",
            "640/640 [==============================] - 0s 48us/sample - loss: 0.5453 - acc: 0.7766 - val_loss: 0.4438 - val_acc: 0.8889\n",
            "Epoch 88/100\n",
            "640/640 [==============================] - 0s 57us/sample - loss: 0.5426 - acc: 0.7781 - val_loss: 0.4429 - val_acc: 0.8889\n",
            "Epoch 89/100\n",
            "640/640 [==============================] - 0s 50us/sample - loss: 0.5413 - acc: 0.7812 - val_loss: 0.4427 - val_acc: 0.8889\n",
            "Epoch 90/100\n",
            "640/640 [==============================] - 0s 57us/sample - loss: 0.5515 - acc: 0.7578 - val_loss: 0.4424 - val_acc: 0.8889\n",
            "Epoch 91/100\n",
            "640/640 [==============================] - 0s 55us/sample - loss: 0.5380 - acc: 0.7750 - val_loss: 0.4406 - val_acc: 0.8889\n",
            "Epoch 92/100\n",
            "640/640 [==============================] - 0s 58us/sample - loss: 0.5424 - acc: 0.7641 - val_loss: 0.4390 - val_acc: 0.8889\n",
            "Epoch 93/100\n",
            "640/640 [==============================] - 0s 52us/sample - loss: 0.5523 - acc: 0.7703 - val_loss: 0.4374 - val_acc: 0.8889\n",
            "Epoch 94/100\n",
            "640/640 [==============================] - 0s 51us/sample - loss: 0.5345 - acc: 0.7797 - val_loss: 0.4361 - val_acc: 0.8889\n",
            "Epoch 95/100\n",
            "640/640 [==============================] - 0s 52us/sample - loss: 0.5276 - acc: 0.7937 - val_loss: 0.4344 - val_acc: 0.8889\n",
            "Epoch 96/100\n",
            "640/640 [==============================] - 0s 50us/sample - loss: 0.5389 - acc: 0.7812 - val_loss: 0.4335 - val_acc: 0.8889\n",
            "Epoch 97/100\n",
            "640/640 [==============================] - 0s 51us/sample - loss: 0.5400 - acc: 0.7797 - val_loss: 0.4325 - val_acc: 0.8889\n",
            "Epoch 98/100\n",
            "640/640 [==============================] - 0s 59us/sample - loss: 0.5274 - acc: 0.7828 - val_loss: 0.4298 - val_acc: 0.8889\n",
            "Epoch 99/100\n",
            "640/640 [==============================] - 0s 51us/sample - loss: 0.5239 - acc: 0.7875 - val_loss: 0.4272 - val_acc: 0.8889\n",
            "Epoch 100/100\n",
            "640/640 [==============================] - 0s 52us/sample - loss: 0.5390 - acc: 0.7719 - val_loss: 0.4260 - val_acc: 0.8889\n"
          ],
          "name": "stdout"
        }
      ]
    },
    {
      "cell_type": "code",
      "metadata": {
        "id": "kcV35eqRjIJr",
        "colab_type": "code",
        "colab": {}
      },
      "source": [
        "model.load_weights('kaggle-titanic.hdf5')"
      ],
      "execution_count": 0,
      "outputs": []
    },
    {
      "cell_type": "code",
      "metadata": {
        "id": "NCV2_n74NmBC",
        "colab_type": "code",
        "outputId": "88d06c31-1db6-4255-a14b-2edab4a36ecb",
        "colab": {
          "base_uri": "https://localhost:8080/",
          "height": 573
        }
      },
      "source": [
        "# Training plots\n",
        "epochs = [i for i in range(1, len(history.history['loss'])+1)]\n",
        "\n",
        "plt.plot(epochs, history.history['loss'], color='blue', label=\"training_loss\")\n",
        "plt.plot(epochs, history.history['val_loss'], color='red', label=\"validation_loss\")\n",
        "plt.legend(loc='best')\n",
        "plt.title('loss')\n",
        "plt.xlabel('epoch')\n",
        "plt.show()\n",
        "\n",
        "plt.plot(epochs, history.history['acc'], color='blue', label=\"training_accuracy\")\n",
        "plt.plot(epochs, history.history['val_acc'], color='red',label=\"validation_accuracy\")\n",
        "plt.legend(loc='best')\n",
        "plt.title('accuracy')\n",
        "plt.xlabel('epoch')\n",
        "plt.show()"
      ],
      "execution_count": 133,
      "outputs": [
        {
          "output_type": "display_data",
          "data": {
            "image/png": "[encoded data removed]",
            "text/plain": [
              "<Figure size 432x288 with 1 Axes>"
            ]
          },
          "metadata": {
            "tags": []
          }
        },
        {
          "output_type": "display_data",
          "data": {
            "image/png": "[encoded data removed]",
            "text/plain": [
              "<Figure size 432x288 with 1 Axes>"
            ]
          },
          "metadata": {
            "tags": []
          }
        }
      ]
    },
    {
      "cell_type": "code",
      "metadata": {
        "id": "5lNElYr9ivPm",
        "colab_type": "code",
        "colab": {}
      },
      "source": [
        "y_pred = model.predict(x_test_scaled)\n",
        "y_final = (y_pred > 0.5).astype(int).reshape(df_test.shape[0])\n",
        "    \n",
        "output = pd.DataFrame({'PassengerId': df_test['PassengerId'], 'Survived': y_final})\n",
        "output.to_csv('submission.csv', index=False)"
      ],
      "execution_count": 0,
      "outputs": []
    },
    {
      "cell_type": "code",
      "metadata": {
        "id": "vRZOKgUbsiGM",
        "colab_type": "code",
        "outputId": "8ac90041-dece-48e4-82b7-f06eed9d50f5",
        "colab": {
          "base_uri": "https://localhost:8080/",
          "height": 204
        }
      },
      "source": [
        "output.head()"
      ],
      "execution_count": 36,
      "outputs": [
        {
          "output_type": "execute_result",
          "data": {
            "text/html": [
              "<div>\n",
              "<style scoped>\n",
              "    .dataframe tbody tr th:only-of-type {\n",
              "        vertical-align: middle;\n",
              "    }\n",
              "\n",
              "    .dataframe tbody tr th {\n",
              "        vertical-align: top;\n",
              "    }\n",
              "\n",
              "    .dataframe thead th {\n",
              "        text-align: right;\n",
              "    }\n",
              "</style>\n",
              "<table border=\"1\" class=\"dataframe\">\n",
              "  <thead>\n",
              "    <tr style=\"text-align: right;\">\n",
              "      <th></th>\n",
              "      <th>PassengerId</th>\n",
              "      <th>Survived</th>\n",
              "    </tr>\n",
              "  </thead>\n",
              "  <tbody>\n",
              "    <tr>\n",
              "      <th>0</th>\n",
              "      <td>892</td>\n",
              "      <td>0</td>\n",
              "    </tr>\n",
              "    <tr>\n",
              "      <th>1</th>\n",
              "      <td>893</td>\n",
              "      <td>0</td>\n",
              "    </tr>\n",
              "    <tr>\n",
              "      <th>2</th>\n",
              "      <td>894</td>\n",
              "      <td>0</td>\n",
              "    </tr>\n",
              "    <tr>\n",
              "      <th>3</th>\n",
              "      <td>895</td>\n",
              "      <td>0</td>\n",
              "    </tr>\n",
              "    <tr>\n",
              "      <th>4</th>\n",
              "      <td>896</td>\n",
              "      <td>0</td>\n",
              "    </tr>\n",
              "  </tbody>\n",
              "</table>\n",
              "</div>"
            ],
            "text/plain": [
              "   PassengerId  Survived\n",
              "0          892         0\n",
              "1          893         0\n",
              "2          894         0\n",
              "3          895         0\n",
              "4          896         0"
            ]
          },
          "metadata": {
            "tags": []
          },
          "execution_count": 36
        }
      ]
    },
    {
      "cell_type": "code",
      "metadata": {
        "id": "410ki_vSmL4q",
        "colab_type": "code",
        "outputId": "50b39879-f3bf-4811-b135-d411fef82a46",
        "colab": {
          "base_uri": "https://localhost:8080/",
          "height": 297
        }
      },
      "source": [
        "output.describe()"
      ],
      "execution_count": 37,
      "outputs": [
        {
          "output_type": "execute_result",
          "data": {
            "text/html": [
              "<div>\n",
              "<style scoped>\n",
              "    .dataframe tbody tr th:only-of-type {\n",
              "        vertical-align: middle;\n",
              "    }\n",
              "\n",
              "    .dataframe tbody tr th {\n",
              "        vertical-align: top;\n",
              "    }\n",
              "\n",
              "    .dataframe thead th {\n",
              "        text-align: right;\n",
              "    }\n",
              "</style>\n",
              "<table border=\"1\" class=\"dataframe\">\n",
              "  <thead>\n",
              "    <tr style=\"text-align: right;\">\n",
              "      <th></th>\n",
              "      <th>PassengerId</th>\n",
              "      <th>Survived</th>\n",
              "    </tr>\n",
              "  </thead>\n",
              "  <tbody>\n",
              "    <tr>\n",
              "      <th>count</th>\n",
              "      <td>418.000000</td>\n",
              "      <td>418.000000</td>\n",
              "    </tr>\n",
              "    <tr>\n",
              "      <th>mean</th>\n",
              "      <td>1100.500000</td>\n",
              "      <td>0.322967</td>\n",
              "    </tr>\n",
              "    <tr>\n",
              "      <th>std</th>\n",
              "      <td>120.810458</td>\n",
              "      <td>0.468170</td>\n",
              "    </tr>\n",
              "    <tr>\n",
              "      <th>min</th>\n",
              "      <td>892.000000</td>\n",
              "      <td>0.000000</td>\n",
              "    </tr>\n",
              "    <tr>\n",
              "      <th>25%</th>\n",
              "      <td>996.250000</td>\n",
              "      <td>0.000000</td>\n",
              "    </tr>\n",
              "    <tr>\n",
              "      <th>50%</th>\n",
              "      <td>1100.500000</td>\n",
              "      <td>0.000000</td>\n",
              "    </tr>\n",
              "    <tr>\n",
              "      <th>75%</th>\n",
              "      <td>1204.750000</td>\n",
              "      <td>1.000000</td>\n",
              "    </tr>\n",
              "    <tr>\n",
              "      <th>max</th>\n",
              "      <td>1309.000000</td>\n",
              "      <td>1.000000</td>\n",
              "    </tr>\n",
              "  </tbody>\n",
              "</table>\n",
              "</div>"
            ],
            "text/plain": [
              "       PassengerId    Survived\n",
              "count   418.000000  418.000000\n",
              "mean   1100.500000    0.322967\n",
              "std     120.810458    0.468170\n",
              "min     892.000000    0.000000\n",
              "25%     996.250000    0.000000\n",
              "50%    1100.500000    0.000000\n",
              "75%    1204.750000    1.000000\n",
              "max    1309.000000    1.000000"
            ]
          },
          "metadata": {
            "tags": []
          },
          "execution_count": 37
        }
      ]
    },
    {
      "cell_type": "code",
      "metadata": {
        "id": "V9F4bBCSmOqv",
        "colab_type": "code",
        "outputId": "d0ef5bdf-5d08-4f05-a9ce-46d2044ca9e6",
        "colab": {
          "base_uri": "https://localhost:8080/",
          "height": 51
        }
      },
      "source": [
        "!kaggle competitions submit -c titanic -f submission.csv -m \"sub #5\""
      ],
      "execution_count": 38,
      "outputs": [
        {
          "output_type": "stream",
          "text": [
            "100% 2.77k/2.77k [00:10<00:00, 270B/s]\n",
            "Successfully submitted to Titanic: Machine Learning from Disaster"
          ],
          "name": "stdout"
        }
      ]
    }
  ]
}